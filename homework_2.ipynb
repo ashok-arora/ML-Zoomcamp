{
  "nbformat": 4,
  "nbformat_minor": 0,
  "metadata": {
    "colab": {
      "name": "zoomcamp homework #2.ipynb",
      "provenance": [],
      "collapsed_sections": [
        "7QL0zFqp_PNs",
        "Qu_rr-eR_R3o",
        "2T8VH9xQ7_RQ"
      ],
      "authorship_tag": "ABX9TyN2r8COF6BuulX35cRrGQS+",
      "include_colab_link": true
    },
    "kernelspec": {
      "name": "python3",
      "display_name": "Python 3"
    },
    "language_info": {
      "name": "python"
    }
  },
  "cells": [
    {
      "cell_type": "markdown",
      "metadata": {
        "id": "view-in-github",
        "colab_type": "text"
      },
      "source": [
        "<a href=\"https://colab.research.google.com/github/ashok-arora/ML-Zoomcamp/blob/main/homework_2.ipynb\" target=\"_parent\"><img src=\"https://colab.research.google.com/assets/colab-badge.svg\" alt=\"Open In Colab\"/></a>"
      ]
    },
    {
      "cell_type": "markdown",
      "metadata": {
        "id": "PAntZMUfuP3l"
      },
      "source": [
        "# [Zoomcamp Homework 2](#https://github.com/alexeygrigorev/mlbookcamp-code/blob/master/course-zoomcamp/02-regression/homework.md)"
      ]
    },
    {
      "cell_type": "code",
      "metadata": {
        "colab": {
          "base_uri": "https://localhost:8080/"
        },
        "id": "Wxb95jNbt89-",
        "outputId": "e8f9f95b-ae36-4584-fe0c-e5629184d4c5"
      },
      "source": [
        "!wget https://raw.githubusercontent.com/alexeygrigorev/datasets/master/AB_NYC_2019.csv"
      ],
      "execution_count": 1,
      "outputs": [
        {
          "output_type": "stream",
          "name": "stdout",
          "text": [
            "--2021-09-19 12:10:34--  https://raw.githubusercontent.com/alexeygrigorev/datasets/master/AB_NYC_2019.csv\n",
            "Resolving raw.githubusercontent.com (raw.githubusercontent.com)... 185.199.108.133, 185.199.109.133, 185.199.110.133, ...\n",
            "Connecting to raw.githubusercontent.com (raw.githubusercontent.com)|185.199.108.133|:443... connected.\n",
            "HTTP request sent, awaiting response... 200 OK\n",
            "Length: 7077973 (6.8M) [text/plain]\n",
            "Saving to: ‘AB_NYC_2019.csv’\n",
            "\n",
            "\rAB_NYC_2019.csv       0%[                    ]       0  --.-KB/s               \rAB_NYC_2019.csv     100%[===================>]   6.75M  --.-KB/s    in 0.03s   \n",
            "\n",
            "2021-09-19 12:10:35 (197 MB/s) - ‘AB_NYC_2019.csv’ saved [7077973/7077973]\n",
            "\n"
          ]
        }
      ]
    },
    {
      "cell_type": "code",
      "metadata": {
        "id": "JVkIoey9vcZY"
      },
      "source": [
        "import numpy as np\n",
        "import pandas as pd"
      ],
      "execution_count": 2,
      "outputs": []
    },
    {
      "cell_type": "code",
      "metadata": {
        "colab": {
          "base_uri": "https://localhost:8080/",
          "height": 524
        },
        "id": "U3Db5DitvgXz",
        "outputId": "d37496a7-31ec-47ad-e606-f30c780c16f7"
      },
      "source": [
        "df = pd.read_csv('./AB_NYC_2019.csv')\n",
        "print(df.columns)\n",
        "df.head()"
      ],
      "execution_count": 3,
      "outputs": [
        {
          "output_type": "stream",
          "name": "stdout",
          "text": [
            "Index(['id', 'name', 'host_id', 'host_name', 'neighbourhood_group',\n",
            "       'neighbourhood', 'latitude', 'longitude', 'room_type', 'price',\n",
            "       'minimum_nights', 'number_of_reviews', 'last_review',\n",
            "       'reviews_per_month', 'calculated_host_listings_count',\n",
            "       'availability_365'],\n",
            "      dtype='object')\n"
          ]
        },
        {
          "output_type": "execute_result",
          "data": {
            "text/html": [
              "<div>\n",
              "<style scoped>\n",
              "    .dataframe tbody tr th:only-of-type {\n",
              "        vertical-align: middle;\n",
              "    }\n",
              "\n",
              "    .dataframe tbody tr th {\n",
              "        vertical-align: top;\n",
              "    }\n",
              "\n",
              "    .dataframe thead th {\n",
              "        text-align: right;\n",
              "    }\n",
              "</style>\n",
              "<table border=\"1\" class=\"dataframe\">\n",
              "  <thead>\n",
              "    <tr style=\"text-align: right;\">\n",
              "      <th></th>\n",
              "      <th>id</th>\n",
              "      <th>name</th>\n",
              "      <th>host_id</th>\n",
              "      <th>host_name</th>\n",
              "      <th>neighbourhood_group</th>\n",
              "      <th>neighbourhood</th>\n",
              "      <th>latitude</th>\n",
              "      <th>longitude</th>\n",
              "      <th>room_type</th>\n",
              "      <th>price</th>\n",
              "      <th>minimum_nights</th>\n",
              "      <th>number_of_reviews</th>\n",
              "      <th>last_review</th>\n",
              "      <th>reviews_per_month</th>\n",
              "      <th>calculated_host_listings_count</th>\n",
              "      <th>availability_365</th>\n",
              "    </tr>\n",
              "  </thead>\n",
              "  <tbody>\n",
              "    <tr>\n",
              "      <th>0</th>\n",
              "      <td>2539</td>\n",
              "      <td>Clean &amp; quiet apt home by the park</td>\n",
              "      <td>2787</td>\n",
              "      <td>John</td>\n",
              "      <td>Brooklyn</td>\n",
              "      <td>Kensington</td>\n",
              "      <td>40.64749</td>\n",
              "      <td>-73.97237</td>\n",
              "      <td>Private room</td>\n",
              "      <td>149</td>\n",
              "      <td>1</td>\n",
              "      <td>9</td>\n",
              "      <td>2018-10-19</td>\n",
              "      <td>0.21</td>\n",
              "      <td>6</td>\n",
              "      <td>365</td>\n",
              "    </tr>\n",
              "    <tr>\n",
              "      <th>1</th>\n",
              "      <td>2595</td>\n",
              "      <td>Skylit Midtown Castle</td>\n",
              "      <td>2845</td>\n",
              "      <td>Jennifer</td>\n",
              "      <td>Manhattan</td>\n",
              "      <td>Midtown</td>\n",
              "      <td>40.75362</td>\n",
              "      <td>-73.98377</td>\n",
              "      <td>Entire home/apt</td>\n",
              "      <td>225</td>\n",
              "      <td>1</td>\n",
              "      <td>45</td>\n",
              "      <td>2019-05-21</td>\n",
              "      <td>0.38</td>\n",
              "      <td>2</td>\n",
              "      <td>355</td>\n",
              "    </tr>\n",
              "    <tr>\n",
              "      <th>2</th>\n",
              "      <td>3647</td>\n",
              "      <td>THE VILLAGE OF HARLEM....NEW YORK !</td>\n",
              "      <td>4632</td>\n",
              "      <td>Elisabeth</td>\n",
              "      <td>Manhattan</td>\n",
              "      <td>Harlem</td>\n",
              "      <td>40.80902</td>\n",
              "      <td>-73.94190</td>\n",
              "      <td>Private room</td>\n",
              "      <td>150</td>\n",
              "      <td>3</td>\n",
              "      <td>0</td>\n",
              "      <td>NaN</td>\n",
              "      <td>NaN</td>\n",
              "      <td>1</td>\n",
              "      <td>365</td>\n",
              "    </tr>\n",
              "    <tr>\n",
              "      <th>3</th>\n",
              "      <td>3831</td>\n",
              "      <td>Cozy Entire Floor of Brownstone</td>\n",
              "      <td>4869</td>\n",
              "      <td>LisaRoxanne</td>\n",
              "      <td>Brooklyn</td>\n",
              "      <td>Clinton Hill</td>\n",
              "      <td>40.68514</td>\n",
              "      <td>-73.95976</td>\n",
              "      <td>Entire home/apt</td>\n",
              "      <td>89</td>\n",
              "      <td>1</td>\n",
              "      <td>270</td>\n",
              "      <td>2019-07-05</td>\n",
              "      <td>4.64</td>\n",
              "      <td>1</td>\n",
              "      <td>194</td>\n",
              "    </tr>\n",
              "    <tr>\n",
              "      <th>4</th>\n",
              "      <td>5022</td>\n",
              "      <td>Entire Apt: Spacious Studio/Loft by central park</td>\n",
              "      <td>7192</td>\n",
              "      <td>Laura</td>\n",
              "      <td>Manhattan</td>\n",
              "      <td>East Harlem</td>\n",
              "      <td>40.79851</td>\n",
              "      <td>-73.94399</td>\n",
              "      <td>Entire home/apt</td>\n",
              "      <td>80</td>\n",
              "      <td>10</td>\n",
              "      <td>9</td>\n",
              "      <td>2018-11-19</td>\n",
              "      <td>0.10</td>\n",
              "      <td>1</td>\n",
              "      <td>0</td>\n",
              "    </tr>\n",
              "  </tbody>\n",
              "</table>\n",
              "</div>"
            ],
            "text/plain": [
              "     id  ... availability_365\n",
              "0  2539  ...              365\n",
              "1  2595  ...              355\n",
              "2  3647  ...              365\n",
              "3  3831  ...              194\n",
              "4  5022  ...                0\n",
              "\n",
              "[5 rows x 16 columns]"
            ]
          },
          "metadata": {},
          "execution_count": 3
        }
      ]
    },
    {
      "cell_type": "code",
      "metadata": {
        "id": "teLGCXjavtJB"
      },
      "source": [
        "import matplotlib.pyplot as plt\n",
        "import seaborn as sns\n",
        "%matplotlib inline"
      ],
      "execution_count": 4,
      "outputs": []
    },
    {
      "cell_type": "code",
      "metadata": {
        "colab": {
          "base_uri": "https://localhost:8080/"
        },
        "id": "V8MfvJHzwZ8B",
        "outputId": "8fcafbc5-2ff4-45db-f754-c80d2ad13811"
      },
      "source": [
        "df.price"
      ],
      "execution_count": 5,
      "outputs": [
        {
          "output_type": "execute_result",
          "data": {
            "text/plain": [
              "0        149\n",
              "1        225\n",
              "2        150\n",
              "3         89\n",
              "4         80\n",
              "        ... \n",
              "48890     70\n",
              "48891     40\n",
              "48892    115\n",
              "48893     55\n",
              "48894     90\n",
              "Name: price, Length: 48895, dtype: int64"
            ]
          },
          "metadata": {},
          "execution_count": 5
        }
      ]
    },
    {
      "cell_type": "code",
      "metadata": {
        "colab": {
          "base_uri": "https://localhost:8080/",
          "height": 283
        },
        "id": "mReCoDXEwESz",
        "outputId": "6eb71d3b-4cc1-4c40-9269-35325ef0e061"
      },
      "source": [
        "df.price.plot(kind='hist')"
      ],
      "execution_count": 6,
      "outputs": [
        {
          "output_type": "execute_result",
          "data": {
            "text/plain": [
              "<matplotlib.axes._subplots.AxesSubplot at 0x7f53d5747dd0>"
            ]
          },
          "metadata": {},
          "execution_count": 6
        },
        {
          "output_type": "display_data",
          "data": {
            "image/png": "[encoded data removed]",
            "text/plain": [
              "<Figure size 432x288 with 1 Axes>"
            ]
          },
          "metadata": {
            "needs_background": "light"
          }
        }
      ]
    },
    {
      "cell_type": "code",
      "metadata": {
        "colab": {
          "base_uri": "https://localhost:8080/",
          "height": 297
        },
        "id": "8I_L4BDx9584",
        "outputId": "9f0d7349-646b-41e9-b6aa-f7a25839241f"
      },
      "source": [
        "sns.histplot(df['price'], bins=50)"
      ],
      "execution_count": 7,
      "outputs": [
        {
          "output_type": "execute_result",
          "data": {
            "text/plain": [
              "<matplotlib.axes._subplots.AxesSubplot at 0x7f53d564c9d0>"
            ]
          },
          "metadata": {},
          "execution_count": 7
        },
        {
          "output_type": "display_data",
          "data": {
            "image/png": "[encoded data removed]",
            "text/plain": [
              "<Figure size 432x288 with 1 Axes>"
            ]
          },
          "metadata": {
            "needs_background": "light"
          }
        }
      ]
    },
    {
      "cell_type": "code",
      "metadata": {
        "id": "qHc23JmPwIKG"
      },
      "source": [
        "df = df[['latitude', 'longitude', 'price', 'minimum_nights', 'number_of_reviews', 'reviews_per_month', 'calculated_host_listings_count', 'availability_365']]"
      ],
      "execution_count": 8,
      "outputs": []
    },
    {
      "cell_type": "markdown",
      "metadata": {
        "id": "7QL0zFqp_PNs"
      },
      "source": [
        "## Answer 1: Missing Values"
      ]
    },
    {
      "cell_type": "code",
      "metadata": {
        "colab": {
          "base_uri": "https://localhost:8080/"
        },
        "id": "qTWr0YKxypsk",
        "outputId": "37bee701-af68-4c61-b497-1076c2c961f3"
      },
      "source": [
        "df.isna().sum()"
      ],
      "execution_count": 9,
      "outputs": [
        {
          "output_type": "execute_result",
          "data": {
            "text/plain": [
              "latitude                              0\n",
              "longitude                             0\n",
              "price                                 0\n",
              "minimum_nights                        0\n",
              "number_of_reviews                     0\n",
              "reviews_per_month                 10052\n",
              "calculated_host_listings_count        0\n",
              "availability_365                      0\n",
              "dtype: int64"
            ]
          },
          "metadata": {},
          "execution_count": 9
        }
      ]
    },
    {
      "cell_type": "markdown",
      "metadata": {
        "id": "Qu_rr-eR_R3o"
      },
      "source": [
        "## Answer 2: Median"
      ]
    },
    {
      "cell_type": "code",
      "metadata": {
        "colab": {
          "base_uri": "https://localhost:8080/"
        },
        "id": "MvMO7hnsyywt",
        "outputId": "f5e87077-e867-406e-aa1f-b96291a3720d"
      },
      "source": [
        "df.minimum_nights.median()"
      ],
      "execution_count": 10,
      "outputs": [
        {
          "output_type": "execute_result",
          "data": {
            "text/plain": [
              "3.0"
            ]
          },
          "metadata": {},
          "execution_count": 10
        }
      ]
    },
    {
      "cell_type": "code",
      "metadata": {
        "id": "uxhXYlxlzR2L"
      },
      "source": [
        "# df = df.sample(frac=1, random_state=42)"
      ],
      "execution_count": 11,
      "outputs": []
    },
    {
      "cell_type": "markdown",
      "metadata": {
        "id": "cKT8CzDa_Zo0"
      },
      "source": [
        "## Answer 3: LR and filling NA"
      ]
    },
    {
      "cell_type": "code",
      "metadata": {
        "colab": {
          "base_uri": "https://localhost:8080/"
        },
        "id": "-WdsFczO2rCr",
        "outputId": "24eb2229-a684-4076-ba22-a2c435def707"
      },
      "source": [
        "n = len(df)\n",
        "n_train = int(n*0.6)\n",
        "n_valid = int(n*0.2)\n",
        "n_test = n - n_train - n_valid\n",
        "print(n, n_train+n_valid+n_test)"
      ],
      "execution_count": 12,
      "outputs": [
        {
          "output_type": "stream",
          "name": "stdout",
          "text": [
            "48895 48895\n"
          ]
        }
      ]
    },
    {
      "cell_type": "code",
      "metadata": {
        "id": "zi1te2UFQJOM"
      },
      "source": [
        "df_train = df.iloc[:n_train]\n",
        "df_valid = df.iloc[n_train:n_train+n_valid]\n",
        "df_test = df[n_train+n_valid:]"
      ],
      "execution_count": 13,
      "outputs": []
    },
    {
      "cell_type": "code",
      "metadata": {
        "id": "d6IMk_SAReol"
      },
      "source": [
        "idx = np.arange(n)\n",
        "np.random.seed(42)\n",
        "np.random.shuffle(idx)"
      ],
      "execution_count": 14,
      "outputs": []
    },
    {
      "cell_type": "code",
      "metadata": {
        "id": "B4drwK1iSeYB"
      },
      "source": [
        "df_train = df.iloc[idx[:n_train]]\n",
        "df_valid = df.iloc[idx[n_train:n_train+n_valid]]\n",
        "df_test = df.iloc[idx[n_train+n_valid:]]"
      ],
      "execution_count": 15,
      "outputs": []
    },
    {
      "cell_type": "code",
      "metadata": {
        "id": "6YS7AV6ISp0x"
      },
      "source": [
        "df_train = df_train.reset_index(drop=True)\n",
        "df_valid = df_valid.reset_index(drop=True)\n",
        "df_test = df_test.reset_index(drop=True)"
      ],
      "execution_count": 16,
      "outputs": []
    },
    {
      "cell_type": "code",
      "metadata": {
        "id": "N2cDjsMsaF05"
      },
      "source": [
        "y_train = np.log1p(df_train.price.values)\n",
        "y_valid = np.log1p(df_valid.price.values)\n",
        "y_test = np.log1p(df_test.price.values)"
      ],
      "execution_count": 17,
      "outputs": []
    },
    {
      "cell_type": "code",
      "metadata": {
        "id": "ALKdMMJSbPmg"
      },
      "source": [
        "del df_train['price']\n",
        "del df_valid['price']\n",
        "del df_test['price']"
      ],
      "execution_count": 18,
      "outputs": []
    },
    {
      "cell_type": "code",
      "metadata": {
        "colab": {
          "base_uri": "https://localhost:8080/"
        },
        "id": "NIm0uXkAbXr0",
        "outputId": "e549d6be-1fcc-410f-b52b-467c4e8ad0f9"
      },
      "source": [
        "df_train.dtypes"
      ],
      "execution_count": 19,
      "outputs": [
        {
          "output_type": "execute_result",
          "data": {
            "text/plain": [
              "latitude                          float64\n",
              "longitude                         float64\n",
              "minimum_nights                      int64\n",
              "number_of_reviews                   int64\n",
              "reviews_per_month                 float64\n",
              "calculated_host_listings_count      int64\n",
              "availability_365                    int64\n",
              "dtype: object"
            ]
          },
          "metadata": {},
          "execution_count": 19
        }
      ]
    },
    {
      "cell_type": "code",
      "metadata": {
        "id": "VaVLOXvwkUPH"
      },
      "source": [
        "def train_linear_regression(X, y):\n",
        "  ones = np.ones(X.shape[0])\n",
        "  X = np.column_stack([ones, X])\n",
        "\n",
        "  XTX = X.T.dot(X)\n",
        "  XTX_inv = np.linalg.inv(XTX)\n",
        "  w = XTX_inv.dot(X.T).dot(y)\n",
        "\n",
        "  return w[0], w[1:]"
      ],
      "execution_count": 20,
      "outputs": []
    },
    {
      "cell_type": "code",
      "metadata": {
        "id": "JsZ2BzYt62AQ"
      },
      "source": [
        "def rmse(y, y_pred):\n",
        "  error = y_pred - y\n",
        "  mse = (error ** 2).mean()\n",
        "  return np.sqrt(mse)\n"
      ],
      "execution_count": 21,
      "outputs": []
    },
    {
      "cell_type": "markdown",
      "metadata": {
        "id": "-W5-X86tz_AD"
      },
      "source": [
        "### Fill NA with 0"
      ]
    },
    {
      "cell_type": "code",
      "metadata": {
        "id": "8lAb8QWO8Kol"
      },
      "source": [
        "def prepare_X(df):\n",
        "  df = df.fillna(0)\n",
        "  X = df.values\n",
        "  return X"
      ],
      "execution_count": 22,
      "outputs": []
    },
    {
      "cell_type": "code",
      "metadata": {
        "id": "AqDEnuwA8UVn"
      },
      "source": [
        "X_train = prepare_X(df_train)\n",
        "w_0, w = train_linear_regression(X_train, y_train)"
      ],
      "execution_count": 23,
      "outputs": []
    },
    {
      "cell_type": "code",
      "metadata": {
        "id": "4V4pC6yk8UMS"
      },
      "source": [
        "y_pred = w_0 + X_train.dot(w)"
      ],
      "execution_count": 24,
      "outputs": []
    },
    {
      "cell_type": "code",
      "metadata": {
        "colab": {
          "base_uri": "https://localhost:8080/",
          "height": 283
        },
        "id": "3tThnSkB8T_C",
        "outputId": "6acc3b79-088e-4d0f-9bdb-9f10e96e5dff"
      },
      "source": [
        "sns.histplot(y_train, label='target', color='red', alpha=0.5, bins=60)\n",
        "sns.histplot(y_pred, label='prediction', color='blue', alpha=0.5, bins=60)"
      ],
      "execution_count": 25,
      "outputs": [
        {
          "output_type": "execute_result",
          "data": {
            "text/plain": [
              "<matplotlib.axes._subplots.AxesSubplot at 0x7f53d45dc410>"
            ]
          },
          "metadata": {},
          "execution_count": 25
        },
        {
          "output_type": "display_data",
          "data": {
            "image/png": "[encoded data removed]",
            "text/plain": [
              "<Figure size 432x288 with 1 Axes>"
            ]
          },
          "metadata": {
            "needs_background": "light"
          }
        }
      ]
    },
    {
      "cell_type": "code",
      "metadata": {
        "colab": {
          "base_uri": "https://localhost:8080/"
        },
        "id": "-AoMzQXD9f4c",
        "outputId": "cf49b550-1203-4475-958e-60179debcc65"
      },
      "source": [
        "round(rmse(y_train, y_pred), 2)"
      ],
      "execution_count": 26,
      "outputs": [
        {
          "output_type": "execute_result",
          "data": {
            "text/plain": [
              "0.64"
            ]
          },
          "metadata": {},
          "execution_count": 26
        }
      ]
    },
    {
      "cell_type": "markdown",
      "metadata": {
        "id": "2T8VH9xQ7_RQ"
      },
      "source": [
        "### Check that missing value still present in original"
      ]
    },
    {
      "cell_type": "code",
      "metadata": {
        "colab": {
          "base_uri": "https://localhost:8080/"
        },
        "id": "CuBPxuPi8F8a",
        "outputId": "cf253335-fc46-4bd2-afaa-aa61f4953c6d"
      },
      "source": [
        "df.isnull().sum()"
      ],
      "execution_count": 27,
      "outputs": [
        {
          "output_type": "execute_result",
          "data": {
            "text/plain": [
              "latitude                              0\n",
              "longitude                             0\n",
              "price                                 0\n",
              "minimum_nights                        0\n",
              "number_of_reviews                     0\n",
              "reviews_per_month                 10052\n",
              "calculated_host_listings_count        0\n",
              "availability_365                      0\n",
              "dtype: int64"
            ]
          },
          "metadata": {},
          "execution_count": 27
        }
      ]
    },
    {
      "cell_type": "markdown",
      "metadata": {
        "id": "jwHObLJD0BzF"
      },
      "source": [
        "### Fill NA with mean"
      ]
    },
    {
      "cell_type": "code",
      "metadata": {
        "id": "qltrI6Gr-UU0"
      },
      "source": [
        "def prepare_X(df):\n",
        "  df = df.fillna(df.reviews_per_month.mean())\n",
        "  X = df.values\n",
        "  return X"
      ],
      "execution_count": 28,
      "outputs": []
    },
    {
      "cell_type": "code",
      "metadata": {
        "id": "RdG_Qope-UU5"
      },
      "source": [
        "X_train = prepare_X(df_train)\n",
        "w_0, w = train_linear_regression(X_train, y_train)"
      ],
      "execution_count": 29,
      "outputs": []
    },
    {
      "cell_type": "code",
      "metadata": {
        "id": "X81KTo-N-UU-"
      },
      "source": [
        "y_pred = w_0 + X_train.dot(w)"
      ],
      "execution_count": 30,
      "outputs": []
    },
    {
      "cell_type": "code",
      "metadata": {
        "colab": {
          "base_uri": "https://localhost:8080/",
          "height": 283
        },
        "id": "TZioe7Jh-UVG",
        "outputId": "68dbd012-7829-4ada-fa58-a5a9cc5f8f02"
      },
      "source": [
        "sns.histplot(y_train, label='target', color='red', alpha=0.5, bins=60)\n",
        "sns.histplot(y_pred, label='prediction', color='blue', alpha=0.5, bins=60)"
      ],
      "execution_count": 31,
      "outputs": [
        {
          "output_type": "execute_result",
          "data": {
            "text/plain": [
              "<matplotlib.axes._subplots.AxesSubplot at 0x7f53cbc55e90>"
            ]
          },
          "metadata": {},
          "execution_count": 31
        },
        {
          "output_type": "display_data",
          "data": {
            "image/png": "[encoded data removed]",
            "text/plain": [
              "<Figure size 432x288 with 1 Axes>"
            ]
          },
          "metadata": {
            "needs_background": "light"
          }
        }
      ]
    },
    {
      "cell_type": "code",
      "metadata": {
        "colab": {
          "base_uri": "https://localhost:8080/"
        },
        "id": "6MywE0Zi-UVL",
        "outputId": "4fd0f749-b1ca-4128-da58-4d5a5a28fcc9"
      },
      "source": [
        "round(rmse(y_train, y_pred), 2)"
      ],
      "execution_count": 32,
      "outputs": [
        {
          "output_type": "execute_result",
          "data": {
            "text/plain": [
              "0.64"
            ]
          },
          "metadata": {},
          "execution_count": 32
        }
      ]
    },
    {
      "cell_type": "markdown",
      "metadata": {
        "id": "nvN3iFRQ-wg_"
      },
      "source": [
        "## Answer 4: Regularised LR"
      ]
    },
    {
      "cell_type": "code",
      "metadata": {
        "id": "xGrmtAKN-a1M"
      },
      "source": [
        "def train_linear_regression_reg(X, y, r=0.01):\n",
        "  ones = np.ones(X.shape[0])\n",
        "  X = np.column_stack([ones, X])\n",
        "\n",
        "  XTX = X.T.dot(X)\n",
        "  XTX = XTX + r * np.eye(XTX.shape[0])\n",
        "\n",
        "  XTX_inv = np.linalg.inv(XTX)\n",
        "  w = XTX_inv.dot(X.T).dot(y)\n",
        "\n",
        "  return w[0], w[1:]"
      ],
      "execution_count": 33,
      "outputs": []
    },
    {
      "cell_type": "code",
      "metadata": {
        "id": "igLrijxC-tbH"
      },
      "source": [
        "def prepare_X(df):\n",
        "  df = df.fillna(0)\n",
        "  X = df.values\n",
        "  return X"
      ],
      "execution_count": 34,
      "outputs": []
    },
    {
      "cell_type": "code",
      "metadata": {
        "colab": {
          "base_uri": "https://localhost:8080/"
        },
        "id": "d0vshQRKAmDU",
        "outputId": "68e8213d-a82c-4636-a8da-cd9771435399"
      },
      "source": [
        "X_train = prepare_X(df_train)\n",
        "X_valid = prepare_X(df_valid)\n",
        "\n",
        "for r in [0, 0.000001, 0.0001, 0.001, 0.01, 0.1, 1, 5, 10]:\n",
        "  w_0, w = train_linear_regression_reg(X_train, y_train, r)\n",
        "  y_pred = w_0 + X_valid.dot(w)\n",
        "  print('RMSE={} when r={}'.format(round(rmse(y_valid, y_pred), 2), r))"
      ],
      "execution_count": 35,
      "outputs": [
        {
          "output_type": "stream",
          "name": "stdout",
          "text": [
            "RMSE=0.64 when r=0\n",
            "RMSE=0.64 when r=1e-06\n",
            "RMSE=0.64 when r=0.0001\n",
            "RMSE=0.64 when r=0.001\n",
            "RMSE=0.66 when r=0.01\n",
            "RMSE=0.68 when r=0.1\n",
            "RMSE=0.68 when r=1\n",
            "RMSE=0.68 when r=5\n",
            "RMSE=0.68 when r=10\n"
          ]
        }
      ]
    },
    {
      "cell_type": "markdown",
      "metadata": {
        "id": "pTx7ShktCji7"
      },
      "source": [
        "## Answer 5: STD of RMSE"
      ]
    },
    {
      "cell_type": "code",
      "metadata": {
        "id": "1Z-kjNrDDG-I"
      },
      "source": [
        "def prepare_X(df):\n",
        "  df = df.fillna(0)\n",
        "  X = df.values\n",
        "  return X"
      ],
      "execution_count": 36,
      "outputs": []
    },
    {
      "cell_type": "code",
      "metadata": {
        "id": "JYSUK8LHCkxx",
        "colab": {
          "base_uri": "https://localhost:8080/"
        },
        "outputId": "68ce68e2-af2c-4adb-b632-b35b52c28534"
      },
      "source": [
        "n = len(df)\n",
        "idx = np.arange(n)\n",
        "\n",
        "rmses = []\n",
        "\n",
        "for s in [0, 1, 2, 3, 4, 5, 6, 7, 8, 9]:\n",
        "  n_train = int(n*0.6)\n",
        "  n_valid = int(n*0.2)\n",
        "  n_test = n - n_train - n_valid\n",
        "  print(s, n, n_train+n_valid+n_test)\n",
        "  \n",
        "  np.random.seed(s)\n",
        "\n",
        "  np.random.shuffle(idx)\n",
        "\n",
        "  df_train = df.iloc[idx[:n_train]].reset_index(drop=True)\n",
        "  df_valid = df.iloc[idx[n_train:n_train+n_valid]].reset_index(drop=True)\n",
        "  df_test = df.iloc[idx[n_train+n_valid:]].reset_index(drop=True)\n",
        "\n",
        "  y_train = np.log1p(df_train.price.values)\n",
        "  y_valid = np.log1p(df_valid.price.values)\n",
        "  y_test = np.log1p(df_test.price.values)\n",
        "\n",
        "  del df_train['price']\n",
        "  del df_valid['price']\n",
        "  del df_test['price']\n",
        "\n",
        "  X_train = prepare_X(df_train)\n",
        "  w_0, w = train_linear_regression(X_train, y_train)\n",
        "\n",
        "  X_valid = prepare_X(df_valid)\n",
        "  y_pred = w_0 + X_valid.dot(w)\n",
        "\n",
        "  rmses.append(round(rmse(y_valid, y_pred), 2))"
      ],
      "execution_count": 37,
      "outputs": [
        {
          "output_type": "stream",
          "name": "stdout",
          "text": [
            "0 48895 48895\n",
            "1 48895 48895\n",
            "2 48895 48895\n",
            "3 48895 48895\n",
            "4 48895 48895\n",
            "5 48895 48895\n",
            "6 48895 48895\n",
            "7 48895 48895\n",
            "8 48895 48895\n",
            "9 48895 48895\n"
          ]
        }
      ]
    },
    {
      "cell_type": "code",
      "metadata": {
        "colab": {
          "base_uri": "https://localhost:8080/"
        },
        "id": "ZjnGiBpTDea8",
        "outputId": "3a9e4df3-be57-45cb-a5a1-dd3566f4cf17"
      },
      "source": [
        "np.std(rmses)"
      ],
      "execution_count": 38,
      "outputs": [
        {
          "output_type": "execute_result",
          "data": {
            "text/plain": [
              "0.0050000000000000044"
            ]
          },
          "metadata": {},
          "execution_count": 38
        }
      ]
    },
    {
      "cell_type": "markdown",
      "metadata": {
        "id": "xX6sv-fLF5e5"
      },
      "source": [
        "## Answer 6: RMSE on Test"
      ]
    },
    {
      "cell_type": "code",
      "metadata": {
        "colab": {
          "base_uri": "https://localhost:8080/"
        },
        "id": "1szSw4QhF400",
        "outputId": "710266e9-3c79-4f61-f399-be39d6ef4d7a"
      },
      "source": [
        "n = len(df)\n",
        "n_train = int(n*0.6)\n",
        "n_test = n - n_train\n",
        "print(n, n_train+n_test)"
      ],
      "execution_count": 39,
      "outputs": [
        {
          "output_type": "stream",
          "name": "stdout",
          "text": [
            "48895 48895\n"
          ]
        }
      ]
    },
    {
      "cell_type": "code",
      "metadata": {
        "id": "UEF2ltoaF402"
      },
      "source": [
        "df_train = df.iloc[:n_train]\n",
        "df_test = df[n_train:]"
      ],
      "execution_count": 40,
      "outputs": []
    },
    {
      "cell_type": "code",
      "metadata": {
        "id": "dURYKWnPF403"
      },
      "source": [
        "def prepare_X(df):\n",
        "  df = df.fillna(0)\n",
        "  X = df.values\n",
        "  return X"
      ],
      "execution_count": 41,
      "outputs": []
    },
    {
      "cell_type": "code",
      "metadata": {
        "colab": {
          "base_uri": "https://localhost:8080/"
        },
        "id": "vTYPzSH9FljY",
        "outputId": "694bc774-5783-417e-91c9-e6f4279f7555"
      },
      "source": [
        "idx = np.arange(n)\n",
        "\n",
        "np.random.seed(seed=9)\n",
        "\n",
        "np.random.shuffle(idx)\n",
        "\n",
        "df_train = df.iloc[idx[:n_train]].reset_index(drop=True)\n",
        "df_test = df.iloc[idx[n_train:]].reset_index(drop=True)\n",
        "\n",
        "y_train = np.log1p(df_train.price.values)\n",
        "y_test = np.log1p(df_test.price.values)\n",
        "\n",
        "del df_train['price']\n",
        "del df_test['price']\n",
        "\n",
        "X_train = prepare_X(df_train)\n",
        "w_0, w = train_linear_regression_reg(X_train, y_train, 0.001)\n",
        "y_pred = w_0 + X_train.dot(w)\n",
        "\n",
        "print(round(rmse(y_train, y_pred), 2))"
      ],
      "execution_count": 42,
      "outputs": [
        {
          "output_type": "stream",
          "name": "stdout",
          "text": [
            "0.65\n"
          ]
        }
      ]
    }
  ]
}