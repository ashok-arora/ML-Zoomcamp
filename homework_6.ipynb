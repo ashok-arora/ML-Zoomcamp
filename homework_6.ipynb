{
  "nbformat": 4,
  "nbformat_minor": 0,
  "metadata": {
    "kernelspec": {
      "display_name": "Python 3",
      "language": "python",
      "name": "python3"
    },
    "language_info": {
      "codemirror_mode": {
        "name": "ipython",
        "version": 3
      },
      "file_extension": ".py",
      "mimetype": "text/x-python",
      "name": "python",
      "nbconvert_exporter": "python",
      "pygments_lexer": "ipython3",
      "version": "3.7.3"
    },
    "colab": {
      "name": "zoomcamp homework #6.ipynb",
      "provenance": [],
      "collapsed_sections": [],
      "include_colab_link": true
    }
  },
  "cells": [
    {
      "cell_type": "markdown",
      "metadata": {
        "id": "view-in-github",
        "colab_type": "text"
      },
      "source": [
        "<a href=\"https://colab.research.google.com/github/ashok-arora/ML-Zoomcamp/blob/main/homework_6.ipynb\" target=\"_parent\"><img src=\"https://colab.research.google.com/assets/colab-badge.svg\" alt=\"Open In Colab\"/></a>"
      ]
    },
    {
      "cell_type": "markdown",
      "metadata": {
        "id": "KynbofgKL_EM"
      },
      "source": [
        "## 6.10 Homework\n",
        "\n",
        "The goal of this homework is to create a tree-based regression model for prediction apartment prices (column `'price'`).\n",
        "\n",
        "In this homework we'll again use the New York City Airbnb Open Data dataset - the same one we used in homework 2 and 3.\n",
        "\n",
        "You can take it from [Kaggle](https://www.kaggle.com/dgomonov/new-york-city-airbnb-open-data?select=AB_NYC_2019.csv)\n",
        "or download from [here](https://raw.githubusercontent.com/alexeygrigorev/datasets/master/AB_NYC_2019.csv)\n",
        "if you don't want to sign up to Kaggle.\n",
        "\n",
        "Let's load the data:"
      ]
    },
    {
      "cell_type": "code",
      "metadata": {
        "colab": {
          "base_uri": "https://localhost:8080/"
        },
        "id": "x4_iJgQFMMVH",
        "outputId": "f1dfda21-6693-4663-cddd-d73eec89a685"
      },
      "source": [
        "!wget https://raw.githubusercontent.com/alexeygrigorev/datasets/master/AB_NYC_2019.csv"
      ],
      "execution_count": 50,
      "outputs": [
        {
          "output_type": "stream",
          "name": "stdout",
          "text": [
            "--2021-10-19 21:58:36--  https://raw.githubusercontent.com/alexeygrigorev/datasets/master/AB_NYC_2019.csv\n",
            "Resolving raw.githubusercontent.com (raw.githubusercontent.com)... 185.199.111.133, 185.199.110.133, 185.199.108.133, ...\n",
            "Connecting to raw.githubusercontent.com (raw.githubusercontent.com)|185.199.111.133|:443... connected.\n",
            "HTTP request sent, awaiting response... 200 OK\n",
            "Length: 7077973 (6.8M) [text/plain]\n",
            "Saving to: ‘AB_NYC_2019.csv.1’\n",
            "\n",
            "AB_NYC_2019.csv.1   100%[===================>]   6.75M  --.-KB/s    in 0.1s    \n",
            "\n",
            "2021-10-19 21:58:36 (70.2 MB/s) - ‘AB_NYC_2019.csv.1’ saved [7077973/7077973]\n",
            "\n"
          ]
        }
      ]
    },
    {
      "cell_type": "code",
      "metadata": {
        "id": "uBjYuKOKL_ET"
      },
      "source": [
        "import pandas as pd\n",
        "import numpy as np\n",
        "\n",
        "import matplotlib.pyplot as plt\n",
        "import seaborn as sns\n",
        "\n",
        "from sklearn.model_selection import train_test_split\n",
        "from sklearn.feature_extraction import DictVectorizer\n",
        "from sklearn.tree import DecisionTreeRegressor, export_text, plot_tree\n",
        "from sklearn.metrics import mean_squared_error\n",
        "from sklearn.ensemble import RandomForestRegressor\n",
        "import matplotlib.pyplot as plt\n",
        "import xgboost as xgb\n",
        "\n",
        "%matplotlib inline"
      ],
      "execution_count": 79,
      "outputs": []
    },
    {
      "cell_type": "code",
      "metadata": {
        "id": "ElBeCs_CL_EX"
      },
      "source": [
        "columns = [\n",
        "    'neighbourhood_group', 'room_type', 'latitude', 'longitude',\n",
        "    'minimum_nights', 'number_of_reviews','reviews_per_month',\n",
        "    'calculated_host_listings_count', 'availability_365',\n",
        "    'price'\n",
        "]\n",
        "\n",
        "df = pd.read_csv('AB_NYC_2019.csv', usecols=columns)\n",
        "df.reviews_per_month = df.reviews_per_month.fillna(0)"
      ],
      "execution_count": 52,
      "outputs": []
    },
    {
      "cell_type": "markdown",
      "metadata": {
        "id": "mh3h-2ZCL_EZ"
      },
      "source": [
        "* Apply the log tranform to `price`\n",
        "* Do train/validation/test split with 60%/20%/20% distribution. \n",
        "* Use the `train_test_split` function and set the `random_state` parameter to 1"
      ]
    },
    {
      "cell_type": "code",
      "metadata": {
        "id": "JsFROflyL_Ec",
        "colab": {
          "base_uri": "https://localhost:8080/"
        },
        "outputId": "58994259-8705-4ac0-f884-37b13a0b09e8"
      },
      "source": [
        "df.isnull().sum()"
      ],
      "execution_count": 53,
      "outputs": [
        {
          "output_type": "execute_result",
          "data": {
            "text/plain": [
              "neighbourhood_group               0\n",
              "latitude                          0\n",
              "longitude                         0\n",
              "room_type                         0\n",
              "price                             0\n",
              "minimum_nights                    0\n",
              "number_of_reviews                 0\n",
              "reviews_per_month                 0\n",
              "calculated_host_listings_count    0\n",
              "availability_365                  0\n",
              "dtype: int64"
            ]
          },
          "metadata": {},
          "execution_count": 53
        }
      ]
    },
    {
      "cell_type": "code",
      "metadata": {
        "colab": {
          "base_uri": "https://localhost:8080/"
        },
        "id": "Bx2kkc9HKZin",
        "outputId": "6dbe5bdd-3e65-458a-b475-b7f5f353e9ed"
      },
      "source": [
        "df['price'] = np.log1p(df['price'])\n",
        "df['price'].describe()"
      ],
      "execution_count": 54,
      "outputs": [
        {
          "output_type": "execute_result",
          "data": {
            "text/plain": [
              "count    48895.000000\n",
              "mean         4.736885\n",
              "std          0.695344\n",
              "min          0.000000\n",
              "25%          4.248495\n",
              "50%          4.672829\n",
              "75%          5.170484\n",
              "max          9.210440\n",
              "Name: price, dtype: float64"
            ]
          },
          "metadata": {},
          "execution_count": 54
        }
      ]
    },
    {
      "cell_type": "code",
      "metadata": {
        "colab": {
          "base_uri": "https://localhost:8080/"
        },
        "id": "KWPk7liRcy5F",
        "outputId": "f4822088-bee5-42b9-9310-7134f4ee1ad9"
      },
      "source": [
        "# split df into full train and test, 80-20\n",
        "df_train_full, df_test = train_test_split(df, test_size=0.2, random_state=1)\n",
        "\n",
        "# split full_train into train and val, 80-20\n",
        "# 20% of full_train ==> 20/80 = 1/4 = 25%\n",
        "df_train, df_val = train_test_split(df_train_full, test_size=0.25, random_state=1)\n",
        "\n",
        "print(len(df), len(df_train), len(df_val), len(df_test))"
      ],
      "execution_count": 55,
      "outputs": [
        {
          "output_type": "stream",
          "name": "stdout",
          "text": [
            "48895 29337 9779 9779\n"
          ]
        }
      ]
    },
    {
      "cell_type": "code",
      "metadata": {
        "id": "ljFz4AQWeAbs"
      },
      "source": [
        "# seperate target variable\n",
        "y_train = df_train.price.values\n",
        "y_val = df_val.price.values\n",
        "y_test = df_test.price.values\n",
        "\n",
        "# delete target variable from df\n",
        "del df_train['price']\n",
        "del df_val['price']\n",
        "del df_test['price']"
      ],
      "execution_count": 56,
      "outputs": []
    },
    {
      "cell_type": "markdown",
      "metadata": {
        "id": "0cvHzpXmL_Ec"
      },
      "source": [
        "Now, use `DictVectorizer` to turn train and validation into matrices:"
      ]
    },
    {
      "cell_type": "code",
      "metadata": {
        "id": "vYnuTXd2L_Ee"
      },
      "source": [
        "# for feature encoding, convert df to dict\n",
        "dict_train = df_train.to_dict(orient='records')\n",
        "dict_val = df_val.to_dict(orient='records')\n",
        "\n",
        "dv = DictVectorizer(sparse=False)\n",
        "\n",
        "X_train = dv.fit_transform(dict_train)\n",
        "X_val = dv.transform(dict_val)"
      ],
      "execution_count": 57,
      "outputs": []
    },
    {
      "cell_type": "markdown",
      "metadata": {
        "id": "CFK7b-yWL_Ee"
      },
      "source": [
        "## Question 1\n",
        "\n",
        "Let's train a decision tree regressor to predict the price variable. \n",
        "\n",
        "* Train a model with `max_depth=1`"
      ]
    },
    {
      "cell_type": "code",
      "metadata": {
        "id": "aR_00d2SL_Eg",
        "colab": {
          "base_uri": "https://localhost:8080/"
        },
        "outputId": "51acd4b2-0212-4fd6-f336-bd5355ce979c"
      },
      "source": [
        "dt = DecisionTreeRegressor(max_depth=1)\n",
        "dt.fit(X_train, y_train)"
      ],
      "execution_count": 58,
      "outputs": [
        {
          "output_type": "execute_result",
          "data": {
            "text/plain": [
              "DecisionTreeRegressor(ccp_alpha=0.0, criterion='mse', max_depth=1,\n",
              "                      max_features=None, max_leaf_nodes=None,\n",
              "                      min_impurity_decrease=0.0, min_impurity_split=None,\n",
              "                      min_samples_leaf=1, min_samples_split=2,\n",
              "                      min_weight_fraction_leaf=0.0, presort='deprecated',\n",
              "                      random_state=None, splitter='best')"
            ]
          },
          "metadata": {},
          "execution_count": 58
        }
      ]
    },
    {
      "cell_type": "markdown",
      "metadata": {
        "id": "N0RKKTlAL_Eh"
      },
      "source": [
        "Which feature is used for splitting the data?\n",
        "\n",
        "* `room_type`\n",
        "* `neighbourhood_group`\n",
        "* `number_of_reviews`\n",
        "* `reviews_per_month`"
      ]
    },
    {
      "cell_type": "code",
      "metadata": {
        "colab": {
          "base_uri": "https://localhost:8080/"
        },
        "id": "Wgv0QdyogCNU",
        "outputId": "68c84f58-a200-4853-989b-0dc8e95b9dc6"
      },
      "source": [
        "print(export_text(dt))"
      ],
      "execution_count": 59,
      "outputs": [
        {
          "output_type": "stream",
          "name": "stdout",
          "text": [
            "|--- feature_12 <= 0.50\n",
            "|   |--- value: [4.29]\n",
            "|--- feature_12 >  0.50\n",
            "|   |--- value: [5.15]\n",
            "\n"
          ]
        }
      ]
    },
    {
      "cell_type": "code",
      "metadata": {
        "colab": {
          "base_uri": "https://localhost:8080/"
        },
        "id": "246ehpKqgKSv",
        "outputId": "306b0904-f1a2-47df-c6f9-f535daffecd5"
      },
      "source": [
        "print(export_text(dt, dv.get_feature_names()))"
      ],
      "execution_count": 60,
      "outputs": [
        {
          "output_type": "stream",
          "name": "stdout",
          "text": [
            "|--- room_type=Entire home/apt <= 0.50\n",
            "|   |--- value: [4.29]\n",
            "|--- room_type=Entire home/apt >  0.50\n",
            "|   |--- value: [5.15]\n",
            "\n"
          ]
        }
      ]
    },
    {
      "cell_type": "code",
      "metadata": {
        "colab": {
          "base_uri": "https://localhost:8080/",
          "height": 248
        },
        "id": "tGB_Q3KygPvu",
        "outputId": "a2959174-ff4f-4c1f-d54d-d9ead1c10ae8"
      },
      "source": [
        "plot_tree(dt)\n",
        "plt.show()"
      ],
      "execution_count": 61,
      "outputs": [
        {
          "output_type": "display_data",
          "data": {
            "image/png": "[encoded data removed]",
            "text/plain": [
              "<Figure size 432x288 with 1 Axes>"
            ]
          },
          "metadata": {
            "needs_background": "light"
          }
        }
      ]
    },
    {
      "cell_type": "code",
      "metadata": {
        "colab": {
          "base_uri": "https://localhost:8080/",
          "height": 248
        },
        "id": "AuGFIZL7gUxD",
        "outputId": "f3c1d52b-e391-4422-815d-2d608a9a00ae"
      },
      "source": [
        "plot_tree(dt, feature_names=dv.get_feature_names())\n",
        "plt.show()"
      ],
      "execution_count": 62,
      "outputs": [
        {
          "output_type": "display_data",
          "data": {
            "image/png": "[encoded data removed]",
            "text/plain": [
              "<Figure size 432x288 with 1 Axes>"
            ]
          },
          "metadata": {
            "needs_background": "light"
          }
        }
      ]
    },
    {
      "cell_type": "markdown",
      "metadata": {
        "id": "F_L8WXBlgklb"
      },
      "source": [
        "Hence, **room_type** was used for splitting the data."
      ]
    },
    {
      "cell_type": "markdown",
      "metadata": {
        "id": "LCY6Z6izL_Eh"
      },
      "source": [
        "## Question 2\n",
        "\n",
        "Train a random forest model with these parameters:\n",
        "\n",
        "* `n_estimators=10`\n",
        "* `random_state=1`\n",
        "* `n_jobs=-1`  (optional - to make training faster)"
      ]
    },
    {
      "cell_type": "code",
      "metadata": {
        "id": "31knafFGL_Ei"
      },
      "source": [
        "rf = RandomForestRegressor(n_estimators=10, random_state=1, n_jobs=-1)"
      ],
      "execution_count": 63,
      "outputs": []
    },
    {
      "cell_type": "code",
      "metadata": {
        "colab": {
          "base_uri": "https://localhost:8080/"
        },
        "id": "XqDni9ROiCH_",
        "outputId": "c665d30f-1ad7-4891-992f-479dcf4143f9"
      },
      "source": [
        "rf.fit(X_train, y_train)"
      ],
      "execution_count": 64,
      "outputs": [
        {
          "output_type": "execute_result",
          "data": {
            "text/plain": [
              "RandomForestRegressor(bootstrap=True, ccp_alpha=0.0, criterion='mse',\n",
              "                      max_depth=None, max_features='auto', max_leaf_nodes=None,\n",
              "                      max_samples=None, min_impurity_decrease=0.0,\n",
              "                      min_impurity_split=None, min_samples_leaf=1,\n",
              "                      min_samples_split=2, min_weight_fraction_leaf=0.0,\n",
              "                      n_estimators=10, n_jobs=-1, oob_score=False,\n",
              "                      random_state=1, verbose=0, warm_start=False)"
            ]
          },
          "metadata": {},
          "execution_count": 64
        }
      ]
    },
    {
      "cell_type": "markdown",
      "metadata": {
        "id": "jPSWhVdIL_Ei"
      },
      "source": [
        "What's the RMSE of this model on validation?\n",
        "\n",
        "* 0.059\n",
        "* 0.259\n",
        "* 0.459\n",
        "* 0.659"
      ]
    },
    {
      "cell_type": "code",
      "metadata": {
        "id": "NKo51EDOiONX"
      },
      "source": [
        "y_pred = rf.predict(X_val)"
      ],
      "execution_count": 74,
      "outputs": []
    },
    {
      "cell_type": "code",
      "metadata": {
        "colab": {
          "base_uri": "https://localhost:8080/"
        },
        "id": "eyaadyhCiU6J",
        "outputId": "e30a0ea2-db73-4cd2-9758-7be91766f689"
      },
      "source": [
        "rmse = mean_squared_error( y_val, rf.predict(X_val), squared=False)\n",
        "rmse"
      ],
      "execution_count": 75,
      "outputs": [
        {
          "output_type": "execute_result",
          "data": {
            "text/plain": [
              "0.460888788095762"
            ]
          },
          "metadata": {},
          "execution_count": 75
        }
      ]
    },
    {
      "cell_type": "markdown",
      "metadata": {
        "id": "Jl4dZvp8L_Ej"
      },
      "source": [
        "## Question 3\n",
        "\n",
        "Now let's experiment with the `n_estimators` parameter\n",
        "\n",
        "* Try different values of this parameter from 10 to 200 with step 10\n",
        "* Set `random_state` to `1`\n",
        "* Evaluate the model on the validation dataset"
      ]
    },
    {
      "cell_type": "code",
      "metadata": {
        "id": "SXcV4dL5L_Eq"
      },
      "source": [
        "rmses = []\n",
        "for x in range(10, 200, 10):\n",
        "  rf = RandomForestRegressor(n_estimators=x, random_state=1, n_jobs=-1)\n",
        "  rf.fit(X_train, y_train)\n",
        "  y_pred = rf.predict(X_val)\n",
        "  rmse = mean_squared_error(y_val, rf.predict(X_val), squared=False)\n",
        "  rmses.append((x, rmse))"
      ],
      "execution_count": 77,
      "outputs": []
    },
    {
      "cell_type": "code",
      "metadata": {
        "colab": {
          "base_uri": "https://localhost:8080/"
        },
        "id": "vXjQEpxWl7sY",
        "outputId": "0c55600d-8ba7-4a58-8c4d-0ceb4ed636a3"
      },
      "source": [
        "rmses"
      ],
      "execution_count": 78,
      "outputs": [
        {
          "output_type": "execute_result",
          "data": {
            "text/plain": [
              "[(10, 0.460888788095762),\n",
              " (20, 0.4474405542590174),\n",
              " (30, 0.44440015830200136),\n",
              " (40, 0.44281711871165336),\n",
              " (50, 0.44176815762157207),\n",
              " (60, 0.44125165338475053),\n",
              " (70, 0.44064455072014125),\n",
              " (80, 0.440740830263047),\n",
              " (90, 0.4402749020311618),\n",
              " (100, 0.4397631903425602),\n",
              " (110, 0.4393128261208466),\n",
              " (120, 0.43912990819267467),\n",
              " (130, 0.4392796575512702),\n",
              " (140, 0.4391514983746916),\n",
              " (150, 0.43902892484355854),\n",
              " (160, 0.4388423640549406),\n",
              " (170, 0.4387460509023033),\n",
              " (180, 0.4388528948224223),\n",
              " (190, 0.43879074353852315)]"
            ]
          },
          "metadata": {},
          "execution_count": 78
        }
      ]
    },
    {
      "cell_type": "markdown",
      "metadata": {
        "id": "ZotIR2ugL_Er"
      },
      "source": [
        "After which value of `n_estimators` does RMSE stop improving?\n",
        "\n",
        "- 10\n",
        "- 50\n",
        "- 70\n",
        "- 120"
      ]
    },
    {
      "cell_type": "code",
      "metadata": {
        "colab": {
          "base_uri": "https://localhost:8080/",
          "height": 283
        },
        "id": "dPp8xwdrmMPP",
        "outputId": "adbf8abe-c030-4751-f791-239e6eab4f99"
      },
      "source": [
        "plt.plot(*zip(*rmses))\n",
        "plt.xlim(0, 200)\n",
        "plt.grid()\n",
        "plt.axvline(10, color='r', linestyle='--')\n",
        "plt.axvline(50, color='r', linestyle='--')\n",
        "plt.axvline(70, color='r', linestyle='--')\n",
        "plt.axvline(120, color='r', linestyle='--')"
      ],
      "execution_count": 93,
      "outputs": [
        {
          "output_type": "execute_result",
          "data": {
            "text/plain": [
              "<matplotlib.lines.Line2D at 0x7f3a36ba5390>"
            ]
          },
          "metadata": {},
          "execution_count": 93
        },
        {
          "output_type": "display_data",
          "data": {
            "image/png": "[encoded data removed]",
            "text/plain": [
              "<Figure size 432x288 with 1 Axes>"
            ]
          },
          "metadata": {
            "needs_background": "light"
          }
        }
      ]
    },
    {
      "cell_type": "code",
      "metadata": {
        "colab": {
          "base_uri": "https://localhost:8080/"
        },
        "id": "vTsGztSsoX4O",
        "outputId": "b55ee086-d762-4cb9-d00b-1104fe8c21db"
      },
      "source": [
        "a = rmses[1-1][1] - rmses[5-1][1]\n",
        "b = rmses[5-1][1] - rmses[7-1][1]\n",
        "c = rmses[7-1][1] - rmses[12-1][1]\n",
        "d = rmses[12-1][1] - rmses[19-1][1]\n",
        "print(a, b, c, d, 'Minimum decline: %f' % min(a, b, c, d), sep='\\n')"
      ],
      "execution_count": 101,
      "outputs": [
        {
          "output_type": "stream",
          "name": "stdout",
          "text": [
            "0.019120630474189937\n",
            "0.001123606901430818\n",
            "0.001514642527466581\n",
            "0.00033916465415151364\n",
            "Minimum decline: 0.000339\n"
          ]
        }
      ]
    },
    {
      "cell_type": "markdown",
      "metadata": {
        "id": "5kmYBQJcoErj"
      },
      "source": [
        "RMSE stops improving after **120 estimators**. "
      ]
    },
    {
      "cell_type": "markdown",
      "metadata": {
        "id": "g113e-BGL_Es"
      },
      "source": [
        "## Question 4\n",
        "\n",
        "Let's select the best `max_depth`:\n",
        "\n",
        "* Try different values of `max_depth`: `[10, 15, 20, 25]`\n",
        "* For each of these values, try different values of `n_estimators` from 10 till 200 (with step 10)\n",
        "* Fix the random seed: `random_state=1`"
      ]
    },
    {
      "cell_type": "code",
      "metadata": {
        "id": "33LiD7XvL_Et"
      },
      "source": [
        "different_depths = {}\n",
        "for d in range(10, 26, 5):\n",
        "  rmses = []\n",
        "  for x in range(10, 201, 10):\n",
        "    rf = RandomForestRegressor(n_estimators=x, max_depth=d, random_state=1, n_jobs=-1)\n",
        "    rf.fit(X_train, y_train)\n",
        "    y_pred = rf.predict(X_val)\n",
        "    rmse = mean_squared_error(y_val, rf.predict(X_val), squared=False)\n",
        "    rmses.append((x, rmse))\n",
        "  different_depths[d] = rmses"
      ],
      "execution_count": 111,
      "outputs": []
    },
    {
      "cell_type": "code",
      "metadata": {
        "colab": {
          "base_uri": "https://localhost:8080/",
          "height": 265
        },
        "id": "bh95dQqewUiz",
        "outputId": "3fbcdd1f-6cf0-4d54-a5f1-e8fce3925273"
      },
      "source": [
        "for depth, rmses in different_depths.items():\n",
        "  plt.plot(*zip(*rmses), label='depth = %d' % depth)\n",
        "  plt.xlim(0, 200)\n",
        "plt.grid()\n",
        "plt.legend()\n",
        "plt.show()"
      ],
      "execution_count": 144,
      "outputs": [
        {
          "output_type": "display_data",
          "data": {
            "image/png": "[encoded data removed]",
            "text/plain": [
              "<Figure size 432x288 with 1 Axes>"
            ]
          },
          "metadata": {
            "needs_background": "light"
          }
        }
      ]
    },
    {
      "cell_type": "markdown",
      "metadata": {
        "id": "7VhLcSLEL_Et"
      },
      "source": [
        "What's the best `max_depth`:\n",
        "\n",
        "* 10\n",
        "* 15\n",
        "* 20\n",
        "* 25\n",
        "\n",
        "Bonus question (not graded):\n",
        "\n",
        "Will the answer be different if we change the seed for the model?"
      ]
    },
    {
      "cell_type": "markdown",
      "metadata": {
        "id": "zoNwI-2Ew5GI"
      },
      "source": [
        "From the graph, best max_depth = **15**."
      ]
    },
    {
      "cell_type": "markdown",
      "metadata": {
        "id": "vzottj5aL_Eu"
      },
      "source": [
        "## Question 5\n",
        "\n",
        "We can extract feature importance information from tree-based models. \n",
        "\n",
        "At each step of the decision tree learning algorith, it finds the best split. \n",
        "When doint it, we can calculate \"gain\" - the reduction in impurity before and after the split. \n",
        "This gain is quite useful in understanding what are the imporatant features \n",
        "for tree-based models.\n",
        "\n",
        "In Scikit-Learn, tree-based models contain this information in the `feature_importances_` field. \n",
        "\n",
        "For this homework question, we'll find the most important feature:\n",
        "\n",
        "* Train the model with these parametes:\n",
        "    * `n_estimators=10`,\n",
        "    * `max_depth=20`,\n",
        "    * `random_state=1`,\n",
        "    * `n_jobs=-1` (optional)\n",
        "* Get the feature importance information from this model"
      ]
    },
    {
      "cell_type": "code",
      "metadata": {
        "id": "UVX5WxWGL_Eu",
        "colab": {
          "base_uri": "https://localhost:8080/"
        },
        "outputId": "a318eb37-e6bc-4652-9545-994fa3095e56"
      },
      "source": [
        "rf = RandomForestRegressor(n_estimators=10, max_depth=20,\n",
        "                           random_state=1, n_jobs=-1)\n",
        "rf.fit(X_train, y_train)"
      ],
      "execution_count": 114,
      "outputs": [
        {
          "output_type": "execute_result",
          "data": {
            "text/plain": [
              "RandomForestRegressor(bootstrap=True, ccp_alpha=0.0, criterion='mse',\n",
              "                      max_depth=20, max_features='auto', max_leaf_nodes=None,\n",
              "                      max_samples=None, min_impurity_decrease=0.0,\n",
              "                      min_impurity_split=None, min_samples_leaf=1,\n",
              "                      min_samples_split=2, min_weight_fraction_leaf=0.0,\n",
              "                      n_estimators=10, n_jobs=-1, oob_score=False,\n",
              "                      random_state=1, verbose=0, warm_start=False)"
            ]
          },
          "metadata": {},
          "execution_count": 114
        }
      ]
    },
    {
      "cell_type": "code",
      "metadata": {
        "colab": {
          "base_uri": "https://localhost:8080/"
        },
        "id": "M1m9PTTlr5jH",
        "outputId": "f76a0c39-a31d-470b-b2a3-2ee4401d5cc8"
      },
      "source": [
        "list(zip(dv.get_feature_names(), dt.feature_importances_))"
      ],
      "execution_count": 116,
      "outputs": [
        {
          "output_type": "execute_result",
          "data": {
            "text/plain": [
              "[('availability_365', 0.0),\n",
              " ('calculated_host_listings_count', 0.0),\n",
              " ('latitude', 0.0),\n",
              " ('longitude', 0.0),\n",
              " ('minimum_nights', 0.0),\n",
              " ('neighbourhood_group=Bronx', 0.0),\n",
              " ('neighbourhood_group=Brooklyn', 0.0),\n",
              " ('neighbourhood_group=Manhattan', 0.0),\n",
              " ('neighbourhood_group=Queens', 0.0),\n",
              " ('neighbourhood_group=Staten Island', 0.0),\n",
              " ('number_of_reviews', 0.0),\n",
              " ('reviews_per_month', 0.0),\n",
              " ('room_type=Entire home/apt', 1.0),\n",
              " ('room_type=Private room', 0.0),\n",
              " ('room_type=Shared room', 0.0)]"
            ]
          },
          "metadata": {},
          "execution_count": 116
        }
      ]
    },
    {
      "cell_type": "markdown",
      "metadata": {
        "id": "dA9OuZ7eL_Ev"
      },
      "source": [
        "What's the most important feature? \n",
        "\n",
        "* `neighbourhood_group=Manhattan`\n",
        "* `room_type=Entire home/apt`\t\n",
        "* `longitude`\n",
        "* `latitude`"
      ]
    },
    {
      "cell_type": "code",
      "metadata": {
        "colab": {
          "base_uri": "https://localhost:8080/",
          "height": 520
        },
        "id": "E9rYjLjDr8Xa",
        "outputId": "4a3edd81-0dde-495a-9478-d19033632e83"
      },
      "source": [
        "importances = list(zip(dv.get_feature_names(), dt.feature_importances_))\n",
        "\n",
        "df_importance = pd.DataFrame(importances, columns=['feature', 'gain'])\n",
        "df_importance = df_importance.sort_values(by='gain', ascending=False)\n",
        "df_importance"
      ],
      "execution_count": 117,
      "outputs": [
        {
          "output_type": "execute_result",
          "data": {
            "text/html": [
              "<div>\n",
              "<style scoped>\n",
              "    .dataframe tbody tr th:only-of-type {\n",
              "        vertical-align: middle;\n",
              "    }\n",
              "\n",
              "    .dataframe tbody tr th {\n",
              "        vertical-align: top;\n",
              "    }\n",
              "\n",
              "    .dataframe thead th {\n",
              "        text-align: right;\n",
              "    }\n",
              "</style>\n",
              "<table border=\"1\" class=\"dataframe\">\n",
              "  <thead>\n",
              "    <tr style=\"text-align: right;\">\n",
              "      <th></th>\n",
              "      <th>feature</th>\n",
              "      <th>gain</th>\n",
              "    </tr>\n",
              "  </thead>\n",
              "  <tbody>\n",
              "    <tr>\n",
              "      <th>12</th>\n",
              "      <td>room_type=Entire home/apt</td>\n",
              "      <td>1.0</td>\n",
              "    </tr>\n",
              "    <tr>\n",
              "      <th>0</th>\n",
              "      <td>availability_365</td>\n",
              "      <td>0.0</td>\n",
              "    </tr>\n",
              "    <tr>\n",
              "      <th>1</th>\n",
              "      <td>calculated_host_listings_count</td>\n",
              "      <td>0.0</td>\n",
              "    </tr>\n",
              "    <tr>\n",
              "      <th>2</th>\n",
              "      <td>latitude</td>\n",
              "      <td>0.0</td>\n",
              "    </tr>\n",
              "    <tr>\n",
              "      <th>3</th>\n",
              "      <td>longitude</td>\n",
              "      <td>0.0</td>\n",
              "    </tr>\n",
              "    <tr>\n",
              "      <th>4</th>\n",
              "      <td>minimum_nights</td>\n",
              "      <td>0.0</td>\n",
              "    </tr>\n",
              "    <tr>\n",
              "      <th>5</th>\n",
              "      <td>neighbourhood_group=Bronx</td>\n",
              "      <td>0.0</td>\n",
              "    </tr>\n",
              "    <tr>\n",
              "      <th>6</th>\n",
              "      <td>neighbourhood_group=Brooklyn</td>\n",
              "      <td>0.0</td>\n",
              "    </tr>\n",
              "    <tr>\n",
              "      <th>7</th>\n",
              "      <td>neighbourhood_group=Manhattan</td>\n",
              "      <td>0.0</td>\n",
              "    </tr>\n",
              "    <tr>\n",
              "      <th>8</th>\n",
              "      <td>neighbourhood_group=Queens</td>\n",
              "      <td>0.0</td>\n",
              "    </tr>\n",
              "    <tr>\n",
              "      <th>9</th>\n",
              "      <td>neighbourhood_group=Staten Island</td>\n",
              "      <td>0.0</td>\n",
              "    </tr>\n",
              "    <tr>\n",
              "      <th>10</th>\n",
              "      <td>number_of_reviews</td>\n",
              "      <td>0.0</td>\n",
              "    </tr>\n",
              "    <tr>\n",
              "      <th>11</th>\n",
              "      <td>reviews_per_month</td>\n",
              "      <td>0.0</td>\n",
              "    </tr>\n",
              "    <tr>\n",
              "      <th>13</th>\n",
              "      <td>room_type=Private room</td>\n",
              "      <td>0.0</td>\n",
              "    </tr>\n",
              "    <tr>\n",
              "      <th>14</th>\n",
              "      <td>room_type=Shared room</td>\n",
              "      <td>0.0</td>\n",
              "    </tr>\n",
              "  </tbody>\n",
              "</table>\n",
              "</div>"
            ],
            "text/plain": [
              "                              feature  gain\n",
              "12          room_type=Entire home/apt   1.0\n",
              "0                    availability_365   0.0\n",
              "1      calculated_host_listings_count   0.0\n",
              "2                            latitude   0.0\n",
              "3                           longitude   0.0\n",
              "4                      minimum_nights   0.0\n",
              "5           neighbourhood_group=Bronx   0.0\n",
              "6        neighbourhood_group=Brooklyn   0.0\n",
              "7       neighbourhood_group=Manhattan   0.0\n",
              "8          neighbourhood_group=Queens   0.0\n",
              "9   neighbourhood_group=Staten Island   0.0\n",
              "10                  number_of_reviews   0.0\n",
              "11                  reviews_per_month   0.0\n",
              "13             room_type=Private room   0.0\n",
              "14              room_type=Shared room   0.0"
            ]
          },
          "metadata": {},
          "execution_count": 117
        }
      ]
    },
    {
      "cell_type": "markdown",
      "metadata": {
        "id": "MzOLT-8QL_Ev"
      },
      "source": [
        "## Question 6"
      ]
    },
    {
      "cell_type": "markdown",
      "metadata": {
        "id": "GAg6y9y7L_Ev"
      },
      "source": [
        "Now let's train an XGBoost model! For this question, we'll tune the `eta` parameter\n",
        "\n",
        "* Install XGBoost\n",
        "* Create DMatrix for train and validation\n",
        "* Create a watchlist\n",
        "* Train a model with these parameters for 100 rounds:\n",
        "\n",
        "```\n",
        "xgb_params = {\n",
        "    'eta': 0.3, \n",
        "    'max_depth': 6,\n",
        "    'min_child_weight': 1,\n",
        "    \n",
        "    'objective': 'reg:squarederror',\n",
        "    'nthread': 8,\n",
        "    \n",
        "    'seed': 1,\n",
        "    'verbosity': 1,\n",
        "}\n",
        "```"
      ]
    },
    {
      "cell_type": "code",
      "metadata": {
        "id": "PCk0dqmxtlyu"
      },
      "source": [
        "dtrain = xgb.DMatrix(X_train, label=y_train, feature_names=dv.get_feature_names())\n",
        "dval = xgb.DMatrix(X_val, label=y_val, feature_names=dv.get_feature_names())"
      ],
      "execution_count": 125,
      "outputs": []
    },
    {
      "cell_type": "code",
      "metadata": {
        "id": "XjJSm-NwuJ_T"
      },
      "source": [
        "watchlist = [(dtrain, 'train'), (dval, 'val')]"
      ],
      "execution_count": 126,
      "outputs": []
    },
    {
      "cell_type": "code",
      "metadata": {
        "id": "siT7zOA0uLNe"
      },
      "source": [
        "xgb_params = {\n",
        "    'eta': 0.3, \n",
        "    'max_depth': 6,\n",
        "    'min_child_weight': 1,\n",
        "\n",
        "    'objective': 'reg:squarederror',\n",
        "    'nthread': 8,\n",
        "\n",
        "    'seed': 1,\n",
        "    'verbosity': 1,\n",
        "}"
      ],
      "execution_count": 127,
      "outputs": []
    },
    {
      "cell_type": "code",
      "metadata": {
        "id": "LzupSGLruPVE"
      },
      "source": [
        "%%capture output\n",
        "# capture instruction that saves the result to output \n",
        "model = xgb.train(xgb_params, dtrain,\n",
        "                  num_boost_round=100,\n",
        "                  evals=watchlist, verbose_eval=10)"
      ],
      "execution_count": 128,
      "outputs": []
    },
    {
      "cell_type": "code",
      "metadata": {
        "id": "Hyhk_RT4vFbc"
      },
      "source": [
        "def parse_xgb_output(output):\n",
        "    tree = []\n",
        "    p_train = []\n",
        "    p_val = []\n",
        "\n",
        "    for line in output.stdout.strip().split('\\n'):\n",
        "        it_line, train_line, val_line = line.split('\\t')\n",
        "\n",
        "        it = int(it_line.strip('[]'))\n",
        "        train = float(train_line.split(':')[1])\n",
        "        val = float(val_line.split(':')[1])\n",
        "\n",
        "        tree.append(it)\n",
        "        p_train.append(train)\n",
        "        p_val.append(val)\n",
        "\n",
        "    return tree, p_train, p_val\n",
        "#enddef\n",
        "tree, p_train, p_val = parse_xgb_output(output)\n"
      ],
      "execution_count": 137,
      "outputs": []
    },
    {
      "cell_type": "code",
      "metadata": {
        "colab": {
          "base_uri": "https://localhost:8080/"
        },
        "id": "ep5UI-8cvKKz",
        "outputId": "f5b51bb9-bd90-4b39-a813-91123879599e"
      },
      "source": [
        "print('Best performance ', min(zip(p_val, tree)))"
      ],
      "execution_count": 138,
      "outputs": [
        {
          "output_type": "stream",
          "name": "stdout",
          "text": [
            "Best performance  (0.432784, 70)\n"
          ]
        }
      ]
    },
    {
      "cell_type": "markdown",
      "metadata": {
        "id": "nAqUyMHVL_Ew"
      },
      "source": [
        "Now change `eta` first to `0.1` and then to `0.01`"
      ]
    },
    {
      "cell_type": "code",
      "metadata": {
        "id": "2KmmPw5BL_Ew"
      },
      "source": [
        "%%capture output_010\n",
        "# capture instruction that saves the result to output \n",
        "xgb_params['eta'] = 0.1\n",
        "model = xgb.train(xgb_params, dtrain,\n",
        "                  num_boost_round=100,\n",
        "                  evals=watchlist, verbose_eval=10)"
      ],
      "execution_count": 131,
      "outputs": []
    },
    {
      "cell_type": "code",
      "metadata": {
        "colab": {
          "base_uri": "https://localhost:8080/"
        },
        "id": "_ZcGHPh0vTgN",
        "outputId": "69b6e876-391f-4efb-9e23-837025a569e7"
      },
      "source": [
        "tree, _, p_val = parse_xgb_output(output_010)\n",
        "print(f'Eta={xgb_params[\"eta\"]} : Best performance ', min(zip(p_val, tree)))"
      ],
      "execution_count": 132,
      "outputs": [
        {
          "output_type": "stream",
          "name": "stdout",
          "text": [
            "Eta=0.1 : Best performance  (0.432873, 99)\n"
          ]
        }
      ]
    },
    {
      "cell_type": "code",
      "metadata": {
        "id": "IEb5r6qEvU55"
      },
      "source": [
        "%%capture output_001\n",
        "# capture instruction that saves the result to output \n",
        "xgb_params['eta'] = 0.01\n",
        "model = xgb.train(xgb_params, dtrain,\n",
        "                  num_boost_round=100,\n",
        "                  evals=watchlist, verbose_eval=10)"
      ],
      "execution_count": 133,
      "outputs": []
    },
    {
      "cell_type": "code",
      "metadata": {
        "colab": {
          "base_uri": "https://localhost:8080/"
        },
        "id": "249outMgvXFy",
        "outputId": "b1e429bd-e106-42aa-b067-d95783e73a33"
      },
      "source": [
        "tree, _, p_val = parse_xgb_output(output_001)\n",
        "print(f'Eta={xgb_params[\"eta\"]} : Best performance ', min(zip(p_val, tree)))"
      ],
      "execution_count": 140,
      "outputs": [
        {
          "output_type": "stream",
          "name": "stdout",
          "text": [
            "Eta=0.01 : Best performance  (1.63049, 99)\n"
          ]
        }
      ]
    },
    {
      "cell_type": "markdown",
      "metadata": {
        "id": "mczeRa8pL_Ew"
      },
      "source": [
        "Which eta leads to the best RMSE score on the validation dataset?\n",
        "\n",
        "* 0.3\n",
        "* 0.1\n",
        "* 0.01"
      ]
    },
    {
      "cell_type": "markdown",
      "metadata": {
        "id": "R32OFeg5wH_R"
      },
      "source": [
        "best RMSE for eta=**0.3**."
      ]
    },
    {
      "cell_type": "markdown",
      "metadata": {
        "id": "UWZzlqhTL_Ex"
      },
      "source": [
        "## Submit the results\n",
        "\n",
        "\n",
        "Submit your results here: https://forms.gle/wQgFkYE6CtdDed4w8\n",
        "\n",
        "It's possible that your answers won't match exactly. If it's the case, select the closest one.\n",
        "\n",
        "\n",
        "## Deadline\n",
        "\n",
        "\n",
        "The deadline for submitting is 20 October 2021, 17:00 CET (Wednesday). After that, the form will be closed.\n",
        "\n"
      ]
    }
  ]
}