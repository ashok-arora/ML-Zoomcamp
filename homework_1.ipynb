{
  "nbformat": 4,
  "nbformat_minor": 0,
  "metadata": {
    "colab": {
      "name": "zoomcamp homework #1.ipynb",
      "provenance": [],
      "collapsed_sections": [],
      "authorship_tag": "ABX9TyPe1Co3m97E47rP7oHyskDJ",
      "include_colab_link": true
    },
    "kernelspec": {
      "name": "python3",
      "display_name": "Python 3"
    },
    "language_info": {
      "name": "python"
    }
  },
  "cells": [
    {
      "cell_type": "markdown",
      "metadata": {
        "id": "view-in-github",
        "colab_type": "text"
      },
      "source": [
        "<a href=\"https://colab.research.google.com/github/ashok-arora/ML-Zoomcamp/blob/main/homework_1.ipynb\" target=\"_parent\"><img src=\"https://colab.research.google.com/assets/colab-badge.svg\" alt=\"Open In Colab\"/></a>"
      ]
    },
    {
      "cell_type": "markdown",
      "metadata": {
        "id": "CC8TrXulIFCW"
      },
      "source": [
        "# [Zoomcamp Homework #1](#https://github.com/alexeygrigorev/mlbookcamp-code/blob/master/course-zoomcamp/01-intro/homework.md)"
      ]
    },
    {
      "cell_type": "code",
      "metadata": {
        "colab": {
          "base_uri": "https://localhost:8080/"
        },
        "id": "A7efRTbCHutu",
        "outputId": "46450e5e-522b-4652-855e-20a54aad440f"
      },
      "source": [
        "!wget https://raw.githubusercontent.com/alexeygrigorev/mlbookcamp-code/master/chapter-02-car-price/data.csv"
      ],
      "execution_count": null,
      "outputs": [
        {
          "output_type": "stream",
          "name": "stdout",
          "text": [
            "--2021-09-11 23:19:59--  https://raw.githubusercontent.com/alexeygrigorev/mlbookcamp-code/master/chapter-02-car-price/data.csv\n",
            "Resolving raw.githubusercontent.com (raw.githubusercontent.com)... 185.199.108.133, 185.199.109.133, 185.199.111.133, ...\n",
            "Connecting to raw.githubusercontent.com (raw.githubusercontent.com)|185.199.108.133|:443... connected.\n",
            "HTTP request sent, awaiting response... 200 OK\n",
            "Length: 1475504 (1.4M) [text/plain]\n",
            "Saving to: ‘data.csv’\n",
            "\n",
            "data.csv            100%[===================>]   1.41M  --.-KB/s    in 0.07s   \n",
            "\n",
            "2021-09-11 23:20:00 (21.2 MB/s) - ‘data.csv’ saved [1475504/1475504]\n",
            "\n"
          ]
        }
      ]
    },
    {
      "cell_type": "code",
      "metadata": {
        "id": "zePi4d_oH-av"
      },
      "source": [
        "import pandas as pd\n",
        "import numpy as np"
      ],
      "execution_count": null,
      "outputs": []
    },
    {
      "cell_type": "code",
      "metadata": {
        "colab": {
          "base_uri": "https://localhost:8080/"
        },
        "id": "8YBvmPZAI3Ey",
        "outputId": "996e7961-64f2-4c33-8203-bc74c467efbd"
      },
      "source": [
        "df = pd.read_csv('./data.csv')\n",
        "print(df.head(), df.columns)"
      ],
      "execution_count": null,
      "outputs": [
        {
          "output_type": "stream",
          "name": "stdout",
          "text": [
            "  Make       Model  Year  ... city mpg  Popularity   MSRP\n",
            "0  BMW  1 Series M  2011  ...       19        3916  46135\n",
            "1  BMW    1 Series  2011  ...       19        3916  40650\n",
            "2  BMW    1 Series  2011  ...       20        3916  36350\n",
            "3  BMW    1 Series  2011  ...       18        3916  29450\n",
            "4  BMW    1 Series  2011  ...       18        3916  34500\n",
            "\n",
            "[5 rows x 16 columns] Index(['Make', 'Model', 'Year', 'Engine Fuel Type', 'Engine HP',\n",
            "       'Engine Cylinders', 'Transmission Type', 'Driven_Wheels',\n",
            "       'Number of Doors', 'Market Category', 'Vehicle Size', 'Vehicle Style',\n",
            "       'highway MPG', 'city mpg', 'Popularity', 'MSRP'],\n",
            "      dtype='object')\n"
          ]
        }
      ]
    },
    {
      "cell_type": "markdown",
      "metadata": {
        "id": "TwR5PItwIYMZ"
      },
      "source": [
        "## Answer 1"
      ]
    },
    {
      "cell_type": "code",
      "metadata": {
        "colab": {
          "base_uri": "https://localhost:8080/"
        },
        "id": "L6PIFilwICXi",
        "outputId": "eae35ab3-3c7c-4093-f71b-4e67ecea5776"
      },
      "source": [
        "print('Numpy version: {}'.format(np.__version__))"
      ],
      "execution_count": null,
      "outputs": [
        {
          "output_type": "stream",
          "name": "stdout",
          "text": [
            "Numpy version: 1.19.5\n"
          ]
        }
      ]
    },
    {
      "cell_type": "markdown",
      "metadata": {
        "id": "x_eslRDyIdJh"
      },
      "source": [
        "## Answer 2"
      ]
    },
    {
      "cell_type": "code",
      "metadata": {
        "colab": {
          "base_uri": "https://localhost:8080/"
        },
        "id": "4q2M2LkyIX7F",
        "outputId": "24eadebb-e124-4eb8-a183-49b19d329ccc"
      },
      "source": [
        "print('Pandas version: {}'.format(pd.__version__))"
      ],
      "execution_count": null,
      "outputs": [
        {
          "output_type": "stream",
          "name": "stdout",
          "text": [
            "Pandas version: 1.1.5\n"
          ]
        }
      ]
    },
    {
      "cell_type": "markdown",
      "metadata": {
        "id": "jFVz0n22Inu8"
      },
      "source": [
        "## Answer 3\n"
      ]
    },
    {
      "cell_type": "code",
      "metadata": {
        "colab": {
          "base_uri": "https://localhost:8080/"
        },
        "id": "bmb_gbeDInu-",
        "outputId": "216ecb95-0e91-4d42-d7bd-9499e4911676"
      },
      "source": [
        "average_price_of_bmw_cars = df.groupby('Make')['MSRP'].mean()['BMW']\n",
        "print('Average Price of BMW Cars: {}'.format(average_price_of_bmw_cars))"
      ],
      "execution_count": null,
      "outputs": [
        {
          "output_type": "stream",
          "name": "stdout",
          "text": [
            "Average Price of BMW Cars: 61546.76347305389\n"
          ]
        }
      ]
    },
    {
      "cell_type": "markdown",
      "metadata": {
        "id": "oZzMn_6zIn6v"
      },
      "source": [
        "## Answer 4"
      ]
    },
    {
      "cell_type": "code",
      "metadata": {
        "colab": {
          "base_uri": "https://localhost:8080/"
        },
        "id": "C71QzZ6wIn6y",
        "outputId": "d61366db-f54b-494a-e95e-6be0cedf1c30"
      },
      "source": [
        "cars_after_2015 = df.loc[df['Year'] >= 2015]\n",
        "cars_after_2015_with_missing_engine_hp = cars_after_2015.isnull().sum()['Engine HP']\n",
        "print('Number of cars made in 2015 or later with missing Engine HP value: {}'.format(cars_after_2015_with_missing_engine_hp))"
      ],
      "execution_count": null,
      "outputs": [
        {
          "output_type": "stream",
          "name": "stdout",
          "text": [
            "Number of cars made in 2015 or later with missing Engine HP value: 51\n"
          ]
        }
      ]
    },
    {
      "cell_type": "markdown",
      "metadata": {
        "id": "ENPDWuc8IoQ_"
      },
      "source": [
        "## Answer 5"
      ]
    },
    {
      "cell_type": "code",
      "metadata": {
        "colab": {
          "base_uri": "https://localhost:8080/"
        },
        "id": "_hrLN7eUIoRB",
        "outputId": "7349d358-4d5b-455a-a119-02d89294741a"
      },
      "source": [
        "print('Number of missing values for Engine HP: {}'.format(df['Engine HP'].isna().sum()))\n",
        "\n",
        "new_df = df['Engine HP'].fillna(df['Engine HP'].mean())\n",
        "print('Number of missing values for Engine HP after filling with mean: {}'.format(new_df.isna().sum()))\n",
        "\n",
        "mean_hp_before = df['Engine HP'].mean()\n",
        "mean_hp_after = new_df.mean()\n",
        "\n",
        "print('Mean of Engine HP before filling with mean: {}'.format(round(mean_hp_before)))\n",
        "print('Mean of Engine HP after filling with mean: {}'.format(round(mean_hp_after)))"
      ],
      "execution_count": null,
      "outputs": [
        {
          "output_type": "stream",
          "name": "stdout",
          "text": [
            "Number of missing values for Engine HP: 69\n",
            "Number of missing values for Engine HP after filling with mean: 0\n",
            "Mean of Engine HP before filling with mean: 249\n",
            "Mean of Engine HP after filling with mean: 249\n"
          ]
        }
      ]
    },
    {
      "cell_type": "markdown",
      "metadata": {
        "id": "CyZUpp_dIocH"
      },
      "source": [
        "## Answer 6"
      ]
    },
    {
      "cell_type": "code",
      "metadata": {
        "colab": {
          "base_uri": "https://localhost:8080/"
        },
        "id": "C70EOBR6IocI",
        "outputId": "9c081580-9603-4f90-bd48-4fa65d0340ee"
      },
      "source": [
        "new_df = df.loc[df['Make'] == 'Rolls-Royce']\n",
        "\n",
        "new_df = new_df[['Engine HP', 'Engine Cylinders', 'highway MPG']]\n",
        "print(new_df.drop_duplicates())\n",
        "\n",
        "X = new_df.drop_duplicates().to_numpy()\n",
        "print(X)\n",
        "\n",
        "XTX = np.matmul(X.T,X)\n",
        "print(XTX)\n",
        "\n",
        "XTX_inverse = np.linalg.inv(XTX)\n",
        "print(XTX_inverse.sum())"
      ],
      "execution_count": null,
      "outputs": [
        {
          "output_type": "stream",
          "name": "stdout",
          "text": [
            "       Engine HP  Engine Cylinders  highway MPG\n",
            "2921       325.0               8.0           15\n",
            "3505       563.0              12.0           19\n",
            "5275       563.0              12.0           21\n",
            "5279       563.0              12.0           20\n",
            "7443       322.0              12.0           15\n",
            "7553       453.0              12.0           19\n",
            "11448      624.0              12.0           21\n",
            "[[325.   8.  15.]\n",
            " [563.  12.  19.]\n",
            " [563.  12.  21.]\n",
            " [563.  12.  20.]\n",
            " [322.  12.  15.]\n",
            " [453.  12.  19.]\n",
            " [624.  12.  21.]]\n",
            "[[1.754801e+06 3.965600e+04 6.519600e+04]\n",
            " [3.965600e+04 9.280000e+02 1.500000e+03]\n",
            " [6.519600e+04 1.500000e+03 2.454000e+03]]\n",
            "0.032212320677486125\n"
          ]
        }
      ]
    },
    {
      "cell_type": "markdown",
      "metadata": {
        "id": "UTWdfgznIokZ"
      },
      "source": [
        "## Answer 7"
      ]
    },
    {
      "cell_type": "code",
      "metadata": {
        "colab": {
          "base_uri": "https://localhost:8080/"
        },
        "id": "Jkb7eQGRIokb",
        "outputId": "977b483e-f00e-4b59-f56a-7019f2e34b46"
      },
      "source": [
        "Y = np.array([1000, 1100, 900, 1200, 1000, 850, 1300])\n",
        "XTX_inverse_XT = np.matmul(XTX_inverse, X.T)\n",
        "w = np.matmul(XTX_inverse_XT, Y)\n",
        "print(w)"
      ],
      "execution_count": null,
      "outputs": [
        {
          "output_type": "stream",
          "name": "stdout",
          "text": [
            "[ 0.19989598 31.02612262 31.65378877]\n"
          ]
        }
      ]
    }
  ]
}