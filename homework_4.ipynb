{
  "nbformat": 4,
  "nbformat_minor": 0,
  "metadata": {
    "kernelspec": {
      "display_name": "Python 3",
      "language": "python",
      "name": "python3"
    },
    "language_info": {
      "codemirror_mode": {
        "name": "ipython",
        "version": 3
      },
      "file_extension": ".py",
      "mimetype": "text/x-python",
      "name": "python",
      "nbconvert_exporter": "python",
      "pygments_lexer": "ipython3",
      "version": "3.6.9"
    },
    "colab": {
      "name": "zoomcamp homework #4.ipynb",
      "provenance": [],
      "include_colab_link": true
    }
  },
  "cells": [
    {
      "cell_type": "markdown",
      "metadata": {
        "id": "view-in-github",
        "colab_type": "text"
      },
      "source": [
        "<a href=\"https://colab.research.google.com/github/ashok-arora/ML-Zoomcamp/blob/main/homework_4.ipynb\" target=\"_parent\"><img src=\"https://colab.research.google.com/assets/colab-badge.svg\" alt=\"Open In Colab\"/></a>"
      ]
    },
    {
      "cell_type": "markdown",
      "metadata": {
        "id": "1JLvI_VA3CIv"
      },
      "source": [
        "## Homework 4\n",
        "\n",
        "Use this notebook as a starter"
      ]
    },
    {
      "cell_type": "code",
      "metadata": {
        "id": "f5gA9U6g3CIz"
      },
      "source": [
        "import pandas as pd\n",
        "import numpy as np\n",
        "\n",
        "import matplotlib.pyplot as plt\n",
        "import seaborn as sns\n",
        "\n",
        "from sklearn.model_selection import train_test_split\n",
        "from sklearn.metrics import roc_auc_score\n",
        "from sklearn.feature_extraction import DictVectorizer\n",
        "from sklearn.linear_model import LogisticRegression\n",
        "from sklearn.metrics import precision_score\n",
        "from sklearn.metrics import recall_score\n",
        "from sklearn.model_selection import KFold\n",
        "%matplotlib inline"
      ],
      "execution_count": null,
      "outputs": []
    },
    {
      "cell_type": "markdown",
      "metadata": {
        "id": "L2p7okD33CI3"
      },
      "source": [
        "Data:\n",
        "\n",
        "- https://github.com/gastonstat/CreditScoring\n",
        "- Also available [here](https://raw.githubusercontent.com/alexeygrigorev/mlbookcamp-code/master/chapter-06-trees/CreditScoring.csv)"
      ]
    },
    {
      "cell_type": "code",
      "metadata": {
        "scrolled": true,
        "colab": {
          "base_uri": "https://localhost:8080/"
        },
        "id": "dhai5sqO3CI6",
        "outputId": "299536ac-def4-4d6a-ace5-aa631a9376d9"
      },
      "source": [
        "!wget https://raw.githubusercontent.com/alexeygrigorev/mlbookcamp-code/master/chapter-06-trees/CreditScoring.csv"
      ],
      "execution_count": null,
      "outputs": [
        {
          "output_type": "stream",
          "name": "stdout",
          "text": [
            "--2021-10-03 13:25:41--  https://raw.githubusercontent.com/alexeygrigorev/mlbookcamp-code/master/chapter-06-trees/CreditScoring.csv\n",
            "Resolving raw.githubusercontent.com (raw.githubusercontent.com)... 185.199.108.133, 185.199.109.133, 185.199.110.133, ...\n",
            "Connecting to raw.githubusercontent.com (raw.githubusercontent.com)|185.199.108.133|:443... connected.\n",
            "HTTP request sent, awaiting response... 200 OK\n",
            "Length: 182489 (178K) [text/plain]\n",
            "Saving to: ‘CreditScoring.csv.2’\n",
            "\n",
            "\rCreditScoring.csv.2   0%[                    ]       0  --.-KB/s               \rCreditScoring.csv.2 100%[===================>] 178.21K  --.-KB/s    in 0.03s   \n",
            "\n",
            "2021-10-03 13:25:41 (6.95 MB/s) - ‘CreditScoring.csv.2’ saved [182489/182489]\n",
            "\n"
          ]
        }
      ]
    },
    {
      "cell_type": "markdown",
      "metadata": {
        "id": "IIFXS0883CI9"
      },
      "source": [
        "## Preparation \n",
        "\n",
        "We'll talk about this dataset in more details in week 6. But for now, use the following code to get started"
      ]
    },
    {
      "cell_type": "code",
      "metadata": {
        "id": "xMj9mUjA3CI-"
      },
      "source": [
        "df = pd.read_csv('CreditScoring.csv')\n",
        "df.columns = df.columns.str.lower()"
      ],
      "execution_count": null,
      "outputs": []
    },
    {
      "cell_type": "markdown",
      "metadata": {
        "id": "LZQPJzhV3CJA"
      },
      "source": [
        "Some of the features are encoded as numbers. Use the following code to de-code them:"
      ]
    },
    {
      "cell_type": "code",
      "metadata": {
        "id": "XKobW5C13CJB"
      },
      "source": [
        "status_values = {\n",
        "    1: 'ok',\n",
        "    2: 'default',\n",
        "    0: 'unk'\n",
        "}\n",
        "\n",
        "df.status = df.status.map(status_values)\n",
        "\n",
        "\n",
        "home_values = {\n",
        "    1: 'rent',\n",
        "    2: 'owner',\n",
        "    3: 'private',\n",
        "    4: 'ignore',\n",
        "    5: 'parents',\n",
        "    6: 'other',\n",
        "    0: 'unk'\n",
        "}\n",
        "\n",
        "df.home = df.home.map(home_values)\n",
        "\n",
        "marital_values = {\n",
        "    1: 'single',\n",
        "    2: 'married',\n",
        "    3: 'widow',\n",
        "    4: 'separated',\n",
        "    5: 'divorced',\n",
        "    0: 'unk'\n",
        "}\n",
        "\n",
        "df.marital = df.marital.map(marital_values)\n",
        "\n",
        "records_values = {\n",
        "    1: 'no',\n",
        "    2: 'yes',\n",
        "    0: 'unk'\n",
        "}\n",
        "\n",
        "df.records = df.records.map(records_values)\n",
        "\n",
        "job_values = {\n",
        "    1: 'fixed',\n",
        "    2: 'partime',\n",
        "    3: 'freelance',\n",
        "    4: 'others',\n",
        "    0: 'unk'\n",
        "}\n",
        "\n",
        "df.job = df.job.map(job_values)"
      ],
      "execution_count": null,
      "outputs": []
    },
    {
      "cell_type": "markdown",
      "metadata": {
        "id": "hqMsdqAU3CJE"
      },
      "source": [
        "Prepare the numerical variables:"
      ]
    },
    {
      "cell_type": "code",
      "metadata": {
        "id": "S8VFvyjz3CJG"
      },
      "source": [
        "for c in ['income', 'assets', 'debt']:\n",
        "    df[c] = df[c].replace(to_replace=99999999, value=0)"
      ],
      "execution_count": null,
      "outputs": []
    },
    {
      "cell_type": "markdown",
      "metadata": {
        "id": "uEn5nNSH3CJJ"
      },
      "source": [
        "Remove clients with unknown default status"
      ]
    },
    {
      "cell_type": "code",
      "metadata": {
        "id": "0K8JZSwG3CJM"
      },
      "source": [
        "df = df[df.status != 'unk'].reset_index(drop=True)"
      ],
      "execution_count": null,
      "outputs": []
    },
    {
      "cell_type": "markdown",
      "metadata": {
        "id": "8xVksvqo3CJN"
      },
      "source": [
        "Create the target variable"
      ]
    },
    {
      "cell_type": "code",
      "metadata": {
        "id": "CthaHNIQ3CJO"
      },
      "source": [
        "df['default'] = (df.status == 'default').astype(int)\n",
        "del df['status']"
      ],
      "execution_count": null,
      "outputs": []
    },
    {
      "cell_type": "markdown",
      "metadata": {
        "id": "x5WnYCYt3CJO"
      },
      "source": [
        "## Your code"
      ]
    },
    {
      "cell_type": "markdown",
      "metadata": {
        "id": "_p6sAIyQ3CJP"
      },
      "source": [
        "What are the categorical variables? What are the numerical?"
      ]
    },
    {
      "cell_type": "code",
      "metadata": {
        "colab": {
          "base_uri": "https://localhost:8080/"
        },
        "id": "s9GGfziz3CJP",
        "outputId": "0b2e580d-e5b1-44f9-d0aa-2d1c0ded3242"
      },
      "source": [
        "categorical = df.select_dtypes(include=['object']).columns\n",
        "categorical"
      ],
      "execution_count": null,
      "outputs": [
        {
          "output_type": "execute_result",
          "data": {
            "text/plain": [
              "Index(['home', 'marital', 'records', 'job'], dtype='object')"
            ]
          },
          "metadata": {},
          "execution_count": 141
        }
      ]
    },
    {
      "cell_type": "code",
      "metadata": {
        "colab": {
          "base_uri": "https://localhost:8080/"
        },
        "id": "ypwArzjf7O6u",
        "outputId": "777303f4-c789-4cdc-fa7b-410c2fdcb379"
      },
      "source": [
        "numerical = df.select_dtypes(exclude=['object']).columns\n",
        "numerical"
      ],
      "execution_count": null,
      "outputs": [
        {
          "output_type": "execute_result",
          "data": {
            "text/plain": [
              "Index(['seniority', 'time', 'age', 'expenses', 'income', 'assets', 'debt',\n",
              "       'amount', 'price', 'default'],\n",
              "      dtype='object')"
            ]
          },
          "metadata": {},
          "execution_count": 142
        }
      ]
    },
    {
      "cell_type": "markdown",
      "metadata": {
        "id": "HUH_A43F3CJQ"
      },
      "source": [
        "Split the data into 3 parts: train/validation/test with 60%/20%/20% distribution. Use `train_test_split` funciton for that with `random_state=1`"
      ]
    },
    {
      "cell_type": "code",
      "metadata": {
        "colab": {
          "base_uri": "https://localhost:8080/"
        },
        "id": "Hn0svEdj3CJR",
        "outputId": "1c77c754-23df-4937-ea25-52bc4d19e5c7"
      },
      "source": [
        "train_split = 0.80\n",
        "test_split = 0.20\n",
        "\n",
        "\n",
        "df_full_train, df_test = train_test_split(df, test_size=test_split, random_state=1)\n",
        "\n",
        "# validation split = 20% of 80% of training data\n",
        "val_split = test_split / train_split\n",
        "df_train, df_val = train_test_split(df_full_train, test_size=val_split, random_state=1)\n",
        "\n",
        "print(len(df), len(df_train), len(df_val), len(df_test))"
      ],
      "execution_count": null,
      "outputs": [
        {
          "output_type": "stream",
          "name": "stdout",
          "text": [
            "4454 2672 891 891\n"
          ]
        }
      ]
    },
    {
      "cell_type": "markdown",
      "metadata": {
        "id": "oVispbWF3CJS"
      },
      "source": [
        "## Question 1\n",
        "\n",
        "ROC AUC could also be used to evaluate feature importance of numerical variables. \n",
        "\n",
        "Let's do that\n",
        "\n",
        "* For each numerical variable, use it as score and compute AUC with the \"default\" variable\n",
        "* Use the training dataset for that\n",
        "\n",
        "\n",
        "If your AUC is < 0.5, invert this variable by putting \"-\" in front\n",
        "\n",
        "(e.g. `-df_train['expenses']`)\n",
        "\n",
        "AUC can go below 0.5 if the variable is negatively correlated with the target varialble. You can change the direction of the correlation by negating this variable - then negative correlation becomes positive."
      ]
    },
    {
      "cell_type": "code",
      "metadata": {
        "colab": {
          "base_uri": "https://localhost:8080/"
        },
        "id": "3NKbQ7iF3CJS",
        "outputId": "c965cf57-d236-4c0f-b487-6d417dbd0223"
      },
      "source": [
        "auc_scores = {}\n",
        "target_variable = df_train['default']\n",
        "for feature in numerical:\n",
        "    auc_score = roc_auc_score(target_variable, df_train[feature])\n",
        "    if auc_score < 0.5:\n",
        "        auc_score = roc_auc_score(df_train.default, -df_train[feature])\n",
        "    auc_scores[feature] = auc_score\n",
        "\n",
        "sorted(auc_scores.items(), key=lambda x: x[1], reverse=True)"
      ],
      "execution_count": null,
      "outputs": [
        {
          "output_type": "execute_result",
          "data": {
            "text/plain": [
              "[('default', 1.0),\n",
              " ('seniority', 0.7093778624491943),\n",
              " ('income', 0.682006666132633),\n",
              " ('assets', 0.6486042567122802),\n",
              " ('amount', 0.5910773431595518),\n",
              " ('age', 0.5732933272499939),\n",
              " ('time', 0.5608662489595051),\n",
              " ('debt', 0.5047829675783548),\n",
              " ('price', 0.5043329862114843),\n",
              " ('expenses', 0.5009184217217011)]"
            ]
          },
          "metadata": {},
          "execution_count": 144
        }
      ]
    },
    {
      "cell_type": "markdown",
      "metadata": {
        "id": "R0IbNXd43CJS"
      },
      "source": [
        "Which numerical variable (among the following 4) has the highest AUC?\n",
        "\n",
        "- seniority\n",
        "- time\n",
        "- income\n",
        "- debt"
      ]
    },
    {
      "cell_type": "markdown",
      "metadata": {
        "id": "5HLeJ6Nc3CJT"
      },
      "source": [
        "## Training the model\n",
        "\n",
        "From now on, use these columns only:\n",
        "\n",
        "```\n",
        "['seniority', 'income', 'assets', 'records', 'job', 'home']\n",
        "```\n",
        "\n",
        "Apply one-hot-encoding using `DictVectorizer` and train the logistic regression with these parameters:\n",
        "\n",
        "```\n",
        "LogisticRegression(solver='liblinear', C=1.0, max_iter=1000)\n",
        "```"
      ]
    },
    {
      "cell_type": "code",
      "metadata": {
        "id": "1nsfB0gU3CJT"
      },
      "source": [
        "features = ['seniority', 'income', 'assets', 'records', 'job', 'home']\n",
        "target_feature = 'default'\n",
        "\n",
        "X_full_train = df_full_train[features]\n",
        "X_train = df_train[features]\n",
        "X_val = df_val[features]\n",
        "X_test = df_test[features]\n",
        "\n",
        "y_full_train = df_full_train[target_feature]\n",
        "y_train = df_train[target_feature]\n",
        "y_val = df_val[target_feature]\n",
        "y_test = df_test[target_feature]"
      ],
      "execution_count": null,
      "outputs": []
    },
    {
      "cell_type": "code",
      "metadata": {
        "id": "W_zBpDFuKOEh"
      },
      "source": [
        "X_train_dict = X_train.to_dict(orient='records')\n",
        "dv = DictVectorizer(sparse=False)\n",
        "X_train_one_hot = dv.fit_transform(X_train_dict)"
      ],
      "execution_count": null,
      "outputs": []
    },
    {
      "cell_type": "code",
      "metadata": {
        "colab": {
          "base_uri": "https://localhost:8080/"
        },
        "id": "BW8CtENZKVS1",
        "outputId": "3a9f12cd-6c5a-4322-8f6d-e756c1010718"
      },
      "source": [
        "model = LogisticRegression(solver='liblinear', C=1.0, max_iter=1000)\n",
        "model.fit(X_train_one_hot, y_train)"
      ],
      "execution_count": null,
      "outputs": [
        {
          "output_type": "execute_result",
          "data": {
            "text/plain": [
              "LogisticRegression(C=1.0, class_weight=None, dual=False, fit_intercept=True,\n",
              "                   intercept_scaling=1, l1_ratio=None, max_iter=1000,\n",
              "                   multi_class='auto', n_jobs=None, penalty='l2',\n",
              "                   random_state=None, solver='liblinear', tol=0.0001, verbose=0,\n",
              "                   warm_start=False)"
            ]
          },
          "metadata": {},
          "execution_count": 147
        }
      ]
    },
    {
      "cell_type": "markdown",
      "metadata": {
        "id": "i7AIW7b03CJU"
      },
      "source": [
        "## Question 2\n",
        "\n",
        "What's the AUC of this model on the validation dataset? (round to 3 digits)\n",
        "\n",
        "- 0.512\n",
        "- 0.612\n",
        "- 0.712\n",
        "- 0.812"
      ]
    },
    {
      "cell_type": "code",
      "metadata": {
        "colab": {
          "base_uri": "https://localhost:8080/"
        },
        "id": "7TSz8wpSKcYa",
        "outputId": "93d680ee-a5c5-4db4-813a-a0ba3edd9bec"
      },
      "source": [
        "X_val_dict = X_val.to_dict(orient='records')\n",
        "X_ohe = dv.transform(X_val_dict)\n",
        "score = roc_auc_score(y_val, model.predict_proba(X_ohe)[:, 1])\n",
        "round(score, 3)"
      ],
      "execution_count": null,
      "outputs": [
        {
          "output_type": "execute_result",
          "data": {
            "text/plain": [
              "0.812"
            ]
          },
          "metadata": {},
          "execution_count": 148
        }
      ]
    },
    {
      "cell_type": "markdown",
      "metadata": {
        "id": "F3EhH1Dl3CJU"
      },
      "source": [
        "## Question 3\n",
        "\n",
        "Now let's compute precision and recall for our model.\n",
        "\n",
        "* Evaluate the model on all thresholds from 0.0 to 1.0 with step 0.01\n",
        "* For each threshold, compute precision and recall\n",
        "* Plot them"
      ]
    },
    {
      "cell_type": "code",
      "metadata": {
        "id": "rKCAxnXd3CJU"
      },
      "source": [
        "thresholds = np.arange(0, 1, step=0.01)\n",
        "\n",
        "precisions = []\n",
        "recalls = []\n",
        "\n",
        "import warnings\n",
        "warnings.filterwarnings('ignore')\n",
        "\n",
        "for threshold in thresholds:\n",
        "    X_val_dict = X_val.to_dict(orient='records')\n",
        "    X_ohe = dv.transform(X_val_dict)\n",
        "    \n",
        "    precision = precision_score(y_val, (model.predict_proba(X_ohe)[:, 1] >= threshold))\n",
        "    recall = recall_score(y_val, (model.predict_proba(X_ohe)[:, 1] >= threshold))\n",
        "    \n",
        "    precisions.append(precision)\n",
        "    recalls.append(recall)"
      ],
      "execution_count": null,
      "outputs": []
    },
    {
      "cell_type": "code",
      "metadata": {
        "colab": {
          "base_uri": "https://localhost:8080/",
          "height": 279
        },
        "id": "y925H5ytNVZA",
        "outputId": "219a9620-5566-4f9b-c022-b4202ed5a1d6"
      },
      "source": [
        "plt.plot(thresholds, precisions, label='precision')\n",
        "plt.plot(thresholds, recalls, label='recall')\n",
        "\n",
        "plt.xlabel('threshold value')\n",
        "plt.ylabel('precision/recall score')\n",
        "\n",
        "for x in [0.2, 0.4, 0.6, 0.8]:\n",
        "  plt.axvline(x=x, color='green')\n",
        "\n",
        "plt.legend()\n",
        "plt.show()"
      ],
      "execution_count": null,
      "outputs": [
        {
          "output_type": "display_data",
          "data": {
            "image/png": "[encoded data removed]",
            "text/plain": [
              "<Figure size 432x288 with 1 Axes>"
            ]
          },
          "metadata": {
            "needs_background": "light"
          }
        }
      ]
    },
    {
      "cell_type": "markdown",
      "metadata": {
        "id": "hGrPnvlg3CJV"
      },
      "source": [
        "At which threshold precision and recall curves intersect?\n",
        "\n",
        "* 0.2\n",
        "* 0.4\n",
        "* 0.6\n",
        "* 0.8"
      ]
    },
    {
      "cell_type": "markdown",
      "metadata": {
        "id": "fGTLcGeD3CJV"
      },
      "source": [
        "## Question 4\n",
        "\n",
        "Precision and recall are conflicting - when one grows, the other goes down. That's why they are often combined into the F1 score - a metrics that takes into account both\n",
        "\n",
        "This is the formula for computing F1:\n",
        "\n",
        "$$F_1 = 2 \\cdot \\cfrac{P \\cdot R}{P + R}$$\n",
        "\n",
        "Where $P$ is precision and $R$ is recall.\n",
        "\n",
        "Let's compute F1 for all thresholds from 0.0 to 1.0 with increment 0.01"
      ]
    },
    {
      "cell_type": "code",
      "metadata": {
        "colab": {
          "base_uri": "https://localhost:8080/"
        },
        "id": "qmtPHf3-3CJW",
        "outputId": "04f8d3a4-f5d3-4427-a143-c0b2d346407c"
      },
      "source": [
        "P = np.array(precisions)\n",
        "R = np.array(recalls)\n",
        "\n",
        "F1 = 2*(P*R)/(P+R)\n",
        "idx = list(F1).index(max(F1))\n",
        "thresholds[idx]"
      ],
      "execution_count": null,
      "outputs": [
        {
          "output_type": "execute_result",
          "data": {
            "text/plain": [
              "0.3"
            ]
          },
          "metadata": {},
          "execution_count": 129
        }
      ]
    },
    {
      "cell_type": "markdown",
      "metadata": {
        "id": "td2f5Mz-3CJX"
      },
      "source": [
        "At which threshold F1 is maximal?\n",
        "\n",
        "- 0.1\n",
        "- 0.3\n",
        "- 0.5\n",
        "- 0.7"
      ]
    },
    {
      "cell_type": "markdown",
      "metadata": {
        "id": "e8mZhO1f3CJX"
      },
      "source": [
        "## Question 5\n",
        "\n",
        "\n",
        "Use the `KFold` class from Scikit-Learn to evaluate our model on 5 different folds:\n",
        "\n",
        "```\n",
        "KFold(n_splits=5, shuffle=True, random_state=1)\n",
        "```\n",
        "\n",
        "* Iterate over different folds of `df_full_train`\n",
        "* Split the data into train and validation\n",
        "* Train the model on train with these parameters: `LogisticRegression(solver='liblinear', C=1.0, max_iter=1000)`\n",
        "* Use AUC to evaluate the model on validation\n"
      ]
    },
    {
      "cell_type": "code",
      "metadata": {
        "colab": {
          "base_uri": "https://localhost:8080/"
        },
        "id": "hbhJ38NY3CJY",
        "outputId": "22c26870-df81-4f3a-8972-05920ce0b81e"
      },
      "source": [
        "kf = KFold(n_splits=5, shuffle=True, random_state=1)\n",
        "\n",
        "scores = []\n",
        "for train_index, val_index in kf.split(X_full_train):\n",
        "    X_train = X_full_train.iloc[train_index]\n",
        "    y_train = y_full_train.iloc[train_index]\n",
        "    X_val = X_full_train.iloc[val_index]\n",
        "    y_val = y_full_train.iloc[val_index]\n",
        "\n",
        "    X_train_dict = X_train.to_dict(orient='records')\n",
        "\n",
        "    dv = DictVectorizer(sparse=False)\n",
        "\n",
        "    X_train_one_hot = dv.fit_transform(X_train_dict)\n",
        "    \n",
        "    model = LogisticRegression(solver='liblinear', C=1.0, max_iter=1000)\n",
        "\n",
        "    model.fit(X_train_one_hot, y_train)\n",
        "\n",
        "    score = roc_auc_score(y_val, model.predict_proba(dv.transform(X_val.to_dict(orient='records')))[:, 1])\n",
        "    scores.append(score)\n",
        "\n",
        "scores"
      ],
      "execution_count": null,
      "outputs": [
        {
          "output_type": "execute_result",
          "data": {
            "text/plain": [
              "[0.8256212256212256,\n",
              " 0.8254077031563474,\n",
              " 0.789298525308888,\n",
              " 0.8153421373265731,\n",
              " 0.8054696294614563]"
            ]
          },
          "metadata": {},
          "execution_count": 130
        }
      ]
    },
    {
      "cell_type": "code",
      "metadata": {
        "colab": {
          "base_uri": "https://localhost:8080/"
        },
        "id": "qw9bQ3vxUIGF",
        "outputId": "fd1e098f-6a43-42c4-cc9e-8d479531d445"
      },
      "source": [
        "np.std(scores)"
      ],
      "execution_count": null,
      "outputs": [
        {
          "output_type": "execute_result",
          "data": {
            "text/plain": [
              "0.013669069470482898"
            ]
          },
          "metadata": {},
          "execution_count": 131
        }
      ]
    },
    {
      "cell_type": "markdown",
      "metadata": {
        "id": "OzpT0sXh3CJY"
      },
      "source": [
        "How large is standard devidation of the scores across different folds?\n",
        "\n",
        "- 0.001\n",
        "- 0.014\n",
        "- 0.09\n",
        "- 0.14"
      ]
    },
    {
      "cell_type": "markdown",
      "metadata": {
        "id": "Uc_bZebI3CJa"
      },
      "source": [
        "## Question 6\n",
        "\n",
        "Now let's use 5-Fold cross-validation to find the best parameter C\n",
        "\n",
        "* Iterate over the following C values: `[0.01, 0.1, 1, 10]`\n",
        "* Initialize `KFold` with the same parameters as previously\n",
        "* Use these parametes for the model: `LogisticRegression(solver='liblinear', C=C, max_iter=1000)`\n",
        "* Compute the mean score as well as the std (round the mean and std to 3 decimal digits)"
      ]
    },
    {
      "cell_type": "code",
      "metadata": {
        "colab": {
          "base_uri": "https://localhost:8080/"
        },
        "id": "rPzNLE1j3CJb",
        "outputId": "a0c7e598-3aa8-4f15-ac7a-94f810f482cd"
      },
      "source": [
        "mean_scores = []\n",
        "std_scores = []\n",
        "Cs = [0.01, 0.1, 1, 10]\n",
        "for C in Cs:\n",
        "    kf = KFold(n_splits=5, shuffle=True, random_state=1)\n",
        "\n",
        "    scores = []\n",
        "    for train_index, val_index in kf.split(X_full_train):\n",
        "        X_train = X_full_train.iloc[train_index]\n",
        "        y_train = y_full_train.iloc[train_index]\n",
        "        X_val = X_full_train.iloc[val_index]\n",
        "        y_val = y_full_train.iloc[val_index]\n",
        "\n",
        "        X_train_dict = X_train.to_dict(orient='records')\n",
        "\n",
        "        dv = DictVectorizer(sparse=False)\n",
        "\n",
        "        X_train_one_hot = dv.fit_transform(X_train_dict)\n",
        "        \n",
        "        model = LogisticRegression(solver='liblinear', C=C, max_iter=1000)\n",
        "\n",
        "        model.fit(X_train_one_hot, y_train)\n",
        "\n",
        "        score = roc_auc_score(y_val, model.predict_proba(dv.transform(X_val.to_dict(orient='records')))[:, 1])\n",
        "        scores.append(score)\n",
        "        \n",
        "    mean_scores.append(np.mean(scores))\n",
        "    std_scores.append(np.std(scores))\n",
        "\n",
        "mean_scores, std_scores"
      ],
      "execution_count": null,
      "outputs": [
        {
          "output_type": "execute_result",
          "data": {
            "text/plain": [
              "([0.8076876665463588,\n",
              "  0.8129017360952779,\n",
              "  0.812227844174898,\n",
              "  0.8141433397756099],\n",
              " [0.011832148394108436,\n",
              "  0.013740829347711075,\n",
              "  0.013669069470482898,\n",
              "  0.014614166612648758])"
            ]
          },
          "metadata": {},
          "execution_count": 132
        }
      ]
    },
    {
      "cell_type": "markdown",
      "metadata": {
        "id": "B-IBEW9c3CJc"
      },
      "source": [
        "Which C leads to the best mean score?\n",
        "\n",
        "- 0.01\n",
        "- 0.1\n",
        "- 1\n",
        "- 10\n",
        "\n",
        "If you have ties, select the score with the lowest std. If you still have ties, select the smallest C"
      ]
    },
    {
      "cell_type": "code",
      "metadata": {
        "colab": {
          "base_uri": "https://localhost:8080/"
        },
        "id": "nImQOrYM3CJc",
        "outputId": "fddc62ba-a90d-4c2b-838e-03ec216c880d"
      },
      "source": [
        "list(zip(Cs, mean_scores, std_scores))"
      ],
      "execution_count": null,
      "outputs": [
        {
          "output_type": "execute_result",
          "data": {
            "text/plain": [
              "[(0.01, 0.8076876665463588, 0.011832148394108436),\n",
              " (0.1, 0.8129017360952779, 0.013740829347711075),\n",
              " (1, 0.812227844174898, 0.013669069470482898),\n",
              " (10, 0.8141433397756099, 0.014614166612648758)]"
            ]
          },
          "metadata": {},
          "execution_count": 133
        }
      ]
    },
    {
      "cell_type": "markdown",
      "metadata": {
        "id": "BOTMzhcB3CJc"
      },
      "source": [
        "## Submit the results\n",
        "\n",
        "Submit your results here: https://forms.gle/e497sR5iB36mM9Cs5\n",
        "\n",
        "It's possible that your answers won't match exactly. If it's the case, select the closest one.\n",
        "\n",
        "## Deadline\n",
        "\n",
        "The deadline for submitting is 04 October 2021, 17:00 CET. After that, the form will be closed."
      ]
    },
    {
      "cell_type": "code",
      "metadata": {
        "id": "W5Y6F6O03CJd"
      },
      "source": [
        ""
      ],
      "execution_count": null,
      "outputs": []
    }
  ]
}